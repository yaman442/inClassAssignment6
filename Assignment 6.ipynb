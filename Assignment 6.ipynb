{
 "cells": [
  {
   "cell_type": "code",
   "execution_count": 50,
   "id": "d5073b33",
   "metadata": {},
   "outputs": [
    {
     "data": {
      "text/html": [
       "<div>\n",
       "<style scoped>\n",
       "    .dataframe tbody tr th:only-of-type {\n",
       "        vertical-align: middle;\n",
       "    }\n",
       "\n",
       "    .dataframe tbody tr th {\n",
       "        vertical-align: top;\n",
       "    }\n",
       "\n",
       "    .dataframe thead th {\n",
       "        text-align: right;\n",
       "    }\n",
       "</style>\n",
       "<table border=\"1\" class=\"dataframe\">\n",
       "  <thead>\n",
       "    <tr style=\"text-align: right;\">\n",
       "      <th></th>\n",
       "      <th>Rank</th>\n",
       "      <th>Name</th>\n",
       "      <th>Platform</th>\n",
       "      <th>Year</th>\n",
       "      <th>Genre</th>\n",
       "      <th>Publisher</th>\n",
       "      <th>NA_Sales</th>\n",
       "      <th>EU_Sales</th>\n",
       "      <th>JP_Sales</th>\n",
       "      <th>Other_Sales</th>\n",
       "      <th>Global_Sales</th>\n",
       "    </tr>\n",
       "  </thead>\n",
       "  <tbody>\n",
       "    <tr>\n",
       "      <th>0</th>\n",
       "      <td>1</td>\n",
       "      <td>Wii Sports</td>\n",
       "      <td>Wii</td>\n",
       "      <td>2006.0</td>\n",
       "      <td>Sports</td>\n",
       "      <td>Nintendo</td>\n",
       "      <td>41.49</td>\n",
       "      <td>29.02</td>\n",
       "      <td>3.77</td>\n",
       "      <td>8.46</td>\n",
       "      <td>82.74</td>\n",
       "    </tr>\n",
       "    <tr>\n",
       "      <th>1</th>\n",
       "      <td>2</td>\n",
       "      <td>Super Mario Bros.</td>\n",
       "      <td>NES</td>\n",
       "      <td>1985.0</td>\n",
       "      <td>Platform</td>\n",
       "      <td>Nintendo</td>\n",
       "      <td>29.08</td>\n",
       "      <td>3.58</td>\n",
       "      <td>6.81</td>\n",
       "      <td>0.77</td>\n",
       "      <td>40.24</td>\n",
       "    </tr>\n",
       "    <tr>\n",
       "      <th>2</th>\n",
       "      <td>3</td>\n",
       "      <td>Mario Kart Wii</td>\n",
       "      <td>Wii</td>\n",
       "      <td>2008.0</td>\n",
       "      <td>Racing</td>\n",
       "      <td>Nintendo</td>\n",
       "      <td>15.85</td>\n",
       "      <td>12.88</td>\n",
       "      <td>3.79</td>\n",
       "      <td>3.31</td>\n",
       "      <td>35.82</td>\n",
       "    </tr>\n",
       "    <tr>\n",
       "      <th>3</th>\n",
       "      <td>4</td>\n",
       "      <td>Wii Sports Resort</td>\n",
       "      <td>Wii</td>\n",
       "      <td>2009.0</td>\n",
       "      <td>Sports</td>\n",
       "      <td>Nintendo</td>\n",
       "      <td>15.75</td>\n",
       "      <td>11.01</td>\n",
       "      <td>3.28</td>\n",
       "      <td>2.96</td>\n",
       "      <td>33.00</td>\n",
       "    </tr>\n",
       "    <tr>\n",
       "      <th>4</th>\n",
       "      <td>5</td>\n",
       "      <td>Pokemon Red/Pokemon Blue</td>\n",
       "      <td>GB</td>\n",
       "      <td>1996.0</td>\n",
       "      <td>Role-Playing</td>\n",
       "      <td>Nintendo</td>\n",
       "      <td>11.27</td>\n",
       "      <td>8.89</td>\n",
       "      <td>10.22</td>\n",
       "      <td>1.00</td>\n",
       "      <td>31.37</td>\n",
       "    </tr>\n",
       "    <tr>\n",
       "      <th>5</th>\n",
       "      <td>6</td>\n",
       "      <td>Tetris</td>\n",
       "      <td>GB</td>\n",
       "      <td>1989.0</td>\n",
       "      <td>Puzzle</td>\n",
       "      <td>Nintendo</td>\n",
       "      <td>23.20</td>\n",
       "      <td>2.26</td>\n",
       "      <td>4.22</td>\n",
       "      <td>0.58</td>\n",
       "      <td>30.26</td>\n",
       "    </tr>\n",
       "    <tr>\n",
       "      <th>6</th>\n",
       "      <td>7</td>\n",
       "      <td>New Super Mario Bros.</td>\n",
       "      <td>DS</td>\n",
       "      <td>2006.0</td>\n",
       "      <td>Platform</td>\n",
       "      <td>Nintendo</td>\n",
       "      <td>11.38</td>\n",
       "      <td>9.23</td>\n",
       "      <td>6.50</td>\n",
       "      <td>2.90</td>\n",
       "      <td>30.01</td>\n",
       "    </tr>\n",
       "    <tr>\n",
       "      <th>7</th>\n",
       "      <td>8</td>\n",
       "      <td>Wii Play</td>\n",
       "      <td>Wii</td>\n",
       "      <td>2006.0</td>\n",
       "      <td>Misc</td>\n",
       "      <td>Nintendo</td>\n",
       "      <td>14.03</td>\n",
       "      <td>9.20</td>\n",
       "      <td>2.93</td>\n",
       "      <td>2.85</td>\n",
       "      <td>29.02</td>\n",
       "    </tr>\n",
       "    <tr>\n",
       "      <th>8</th>\n",
       "      <td>9</td>\n",
       "      <td>New Super Mario Bros. Wii</td>\n",
       "      <td>Wii</td>\n",
       "      <td>2009.0</td>\n",
       "      <td>Platform</td>\n",
       "      <td>Nintendo</td>\n",
       "      <td>14.59</td>\n",
       "      <td>7.06</td>\n",
       "      <td>4.70</td>\n",
       "      <td>2.26</td>\n",
       "      <td>28.62</td>\n",
       "    </tr>\n",
       "    <tr>\n",
       "      <th>9</th>\n",
       "      <td>10</td>\n",
       "      <td>Duck Hunt</td>\n",
       "      <td>NES</td>\n",
       "      <td>1984.0</td>\n",
       "      <td>Shooter</td>\n",
       "      <td>Nintendo</td>\n",
       "      <td>26.93</td>\n",
       "      <td>0.63</td>\n",
       "      <td>0.28</td>\n",
       "      <td>0.47</td>\n",
       "      <td>28.31</td>\n",
       "    </tr>\n",
       "  </tbody>\n",
       "</table>\n",
       "</div>"
      ],
      "text/plain": [
       "   Rank                       Name Platform    Year         Genre Publisher  \\\n",
       "0     1                 Wii Sports      Wii  2006.0        Sports  Nintendo   \n",
       "1     2          Super Mario Bros.      NES  1985.0      Platform  Nintendo   \n",
       "2     3             Mario Kart Wii      Wii  2008.0        Racing  Nintendo   \n",
       "3     4          Wii Sports Resort      Wii  2009.0        Sports  Nintendo   \n",
       "4     5   Pokemon Red/Pokemon Blue       GB  1996.0  Role-Playing  Nintendo   \n",
       "5     6                     Tetris       GB  1989.0        Puzzle  Nintendo   \n",
       "6     7      New Super Mario Bros.       DS  2006.0      Platform  Nintendo   \n",
       "7     8                   Wii Play      Wii  2006.0          Misc  Nintendo   \n",
       "8     9  New Super Mario Bros. Wii      Wii  2009.0      Platform  Nintendo   \n",
       "9    10                  Duck Hunt      NES  1984.0       Shooter  Nintendo   \n",
       "\n",
       "   NA_Sales  EU_Sales  JP_Sales  Other_Sales  Global_Sales  \n",
       "0     41.49     29.02      3.77         8.46         82.74  \n",
       "1     29.08      3.58      6.81         0.77         40.24  \n",
       "2     15.85     12.88      3.79         3.31         35.82  \n",
       "3     15.75     11.01      3.28         2.96         33.00  \n",
       "4     11.27      8.89     10.22         1.00         31.37  \n",
       "5     23.20      2.26      4.22         0.58         30.26  \n",
       "6     11.38      9.23      6.50         2.90         30.01  \n",
       "7     14.03      9.20      2.93         2.85         29.02  \n",
       "8     14.59      7.06      4.70         2.26         28.62  \n",
       "9     26.93      0.63      0.28         0.47         28.31  "
      ]
     },
     "execution_count": 50,
     "metadata": {},
     "output_type": "execute_result"
    }
   ],
   "source": [
    "#Data set from Kaggle ,  'Video Game Sales'\n",
    "#https://www.kaggle.com/datasets/gregorut/videogamesales\n",
    "\n",
    "\n",
    "\n",
    "import pandas as pd\n",
    "import plotly.express as px\n",
    "df = pd.read_csv('vgsales.csv')\n",
    "df = df.dropna()\n",
    "df.head(10)"
   ]
  },
  {
   "cell_type": "markdown",
   "id": "4fb1f90b",
   "metadata": {},
   "source": [
    "Does other country sales correlate to Japan sales where the publisher was Nintendo?"
   ]
  },
  {
   "cell_type": "code",
   "execution_count": 51,
   "id": "dfe2dc6c",
   "metadata": {
    "scrolled": true
   },
   "outputs": [
    {
     "data": {
      "text/html": [
       "<div>\n",
       "<style scoped>\n",
       "    .dataframe tbody tr th:only-of-type {\n",
       "        vertical-align: middle;\n",
       "    }\n",
       "\n",
       "    .dataframe tbody tr th {\n",
       "        vertical-align: top;\n",
       "    }\n",
       "\n",
       "    .dataframe thead th {\n",
       "        text-align: right;\n",
       "    }\n",
       "</style>\n",
       "<table border=\"1\" class=\"dataframe\">\n",
       "  <thead>\n",
       "    <tr style=\"text-align: right;\">\n",
       "      <th></th>\n",
       "      <th>Rank</th>\n",
       "      <th>Name</th>\n",
       "      <th>Platform</th>\n",
       "      <th>Year</th>\n",
       "      <th>Genre</th>\n",
       "      <th>Publisher</th>\n",
       "      <th>NA_Sales</th>\n",
       "      <th>EU_Sales</th>\n",
       "      <th>JP_Sales</th>\n",
       "      <th>Other_Sales</th>\n",
       "      <th>Global_Sales</th>\n",
       "      <th>Japan to Other Sale Ratio</th>\n",
       "    </tr>\n",
       "  </thead>\n",
       "  <tbody>\n",
       "    <tr>\n",
       "      <th>0</th>\n",
       "      <td>1</td>\n",
       "      <td>Wii Sports</td>\n",
       "      <td>Wii</td>\n",
       "      <td>2006.0</td>\n",
       "      <td>Sports</td>\n",
       "      <td>Nintendo</td>\n",
       "      <td>41.49</td>\n",
       "      <td>29.02</td>\n",
       "      <td>3.77</td>\n",
       "      <td>8.46</td>\n",
       "      <td>82.74</td>\n",
       "      <td>0.445626</td>\n",
       "    </tr>\n",
       "    <tr>\n",
       "      <th>1</th>\n",
       "      <td>2</td>\n",
       "      <td>Super Mario Bros.</td>\n",
       "      <td>NES</td>\n",
       "      <td>1985.0</td>\n",
       "      <td>Platform</td>\n",
       "      <td>Nintendo</td>\n",
       "      <td>29.08</td>\n",
       "      <td>3.58</td>\n",
       "      <td>6.81</td>\n",
       "      <td>0.77</td>\n",
       "      <td>40.24</td>\n",
       "      <td>8.844156</td>\n",
       "    </tr>\n",
       "    <tr>\n",
       "      <th>2</th>\n",
       "      <td>3</td>\n",
       "      <td>Mario Kart Wii</td>\n",
       "      <td>Wii</td>\n",
       "      <td>2008.0</td>\n",
       "      <td>Racing</td>\n",
       "      <td>Nintendo</td>\n",
       "      <td>15.85</td>\n",
       "      <td>12.88</td>\n",
       "      <td>3.79</td>\n",
       "      <td>3.31</td>\n",
       "      <td>35.82</td>\n",
       "      <td>1.145015</td>\n",
       "    </tr>\n",
       "    <tr>\n",
       "      <th>3</th>\n",
       "      <td>4</td>\n",
       "      <td>Wii Sports Resort</td>\n",
       "      <td>Wii</td>\n",
       "      <td>2009.0</td>\n",
       "      <td>Sports</td>\n",
       "      <td>Nintendo</td>\n",
       "      <td>15.75</td>\n",
       "      <td>11.01</td>\n",
       "      <td>3.28</td>\n",
       "      <td>2.96</td>\n",
       "      <td>33.00</td>\n",
       "      <td>1.108108</td>\n",
       "    </tr>\n",
       "    <tr>\n",
       "      <th>4</th>\n",
       "      <td>5</td>\n",
       "      <td>Pokemon Red/Pokemon Blue</td>\n",
       "      <td>GB</td>\n",
       "      <td>1996.0</td>\n",
       "      <td>Role-Playing</td>\n",
       "      <td>Nintendo</td>\n",
       "      <td>11.27</td>\n",
       "      <td>8.89</td>\n",
       "      <td>10.22</td>\n",
       "      <td>1.00</td>\n",
       "      <td>31.37</td>\n",
       "      <td>10.220000</td>\n",
       "    </tr>\n",
       "    <tr>\n",
       "      <th>5</th>\n",
       "      <td>6</td>\n",
       "      <td>Tetris</td>\n",
       "      <td>GB</td>\n",
       "      <td>1989.0</td>\n",
       "      <td>Puzzle</td>\n",
       "      <td>Nintendo</td>\n",
       "      <td>23.20</td>\n",
       "      <td>2.26</td>\n",
       "      <td>4.22</td>\n",
       "      <td>0.58</td>\n",
       "      <td>30.26</td>\n",
       "      <td>7.275862</td>\n",
       "    </tr>\n",
       "    <tr>\n",
       "      <th>6</th>\n",
       "      <td>7</td>\n",
       "      <td>New Super Mario Bros.</td>\n",
       "      <td>DS</td>\n",
       "      <td>2006.0</td>\n",
       "      <td>Platform</td>\n",
       "      <td>Nintendo</td>\n",
       "      <td>11.38</td>\n",
       "      <td>9.23</td>\n",
       "      <td>6.50</td>\n",
       "      <td>2.90</td>\n",
       "      <td>30.01</td>\n",
       "      <td>2.241379</td>\n",
       "    </tr>\n",
       "    <tr>\n",
       "      <th>7</th>\n",
       "      <td>8</td>\n",
       "      <td>Wii Play</td>\n",
       "      <td>Wii</td>\n",
       "      <td>2006.0</td>\n",
       "      <td>Misc</td>\n",
       "      <td>Nintendo</td>\n",
       "      <td>14.03</td>\n",
       "      <td>9.20</td>\n",
       "      <td>2.93</td>\n",
       "      <td>2.85</td>\n",
       "      <td>29.02</td>\n",
       "      <td>1.028070</td>\n",
       "    </tr>\n",
       "    <tr>\n",
       "      <th>8</th>\n",
       "      <td>9</td>\n",
       "      <td>New Super Mario Bros. Wii</td>\n",
       "      <td>Wii</td>\n",
       "      <td>2009.0</td>\n",
       "      <td>Platform</td>\n",
       "      <td>Nintendo</td>\n",
       "      <td>14.59</td>\n",
       "      <td>7.06</td>\n",
       "      <td>4.70</td>\n",
       "      <td>2.26</td>\n",
       "      <td>28.62</td>\n",
       "      <td>2.079646</td>\n",
       "    </tr>\n",
       "    <tr>\n",
       "      <th>9</th>\n",
       "      <td>10</td>\n",
       "      <td>Duck Hunt</td>\n",
       "      <td>NES</td>\n",
       "      <td>1984.0</td>\n",
       "      <td>Shooter</td>\n",
       "      <td>Nintendo</td>\n",
       "      <td>26.93</td>\n",
       "      <td>0.63</td>\n",
       "      <td>0.28</td>\n",
       "      <td>0.47</td>\n",
       "      <td>28.31</td>\n",
       "      <td>0.595745</td>\n",
       "    </tr>\n",
       "    <tr>\n",
       "      <th>10</th>\n",
       "      <td>11</td>\n",
       "      <td>Nintendogs</td>\n",
       "      <td>DS</td>\n",
       "      <td>2005.0</td>\n",
       "      <td>Simulation</td>\n",
       "      <td>Nintendo</td>\n",
       "      <td>9.07</td>\n",
       "      <td>11.00</td>\n",
       "      <td>1.93</td>\n",
       "      <td>2.75</td>\n",
       "      <td>24.76</td>\n",
       "      <td>0.701818</td>\n",
       "    </tr>\n",
       "    <tr>\n",
       "      <th>11</th>\n",
       "      <td>12</td>\n",
       "      <td>Mario Kart DS</td>\n",
       "      <td>DS</td>\n",
       "      <td>2005.0</td>\n",
       "      <td>Racing</td>\n",
       "      <td>Nintendo</td>\n",
       "      <td>9.81</td>\n",
       "      <td>7.57</td>\n",
       "      <td>4.13</td>\n",
       "      <td>1.92</td>\n",
       "      <td>23.42</td>\n",
       "      <td>2.151042</td>\n",
       "    </tr>\n",
       "    <tr>\n",
       "      <th>12</th>\n",
       "      <td>13</td>\n",
       "      <td>Pokemon Gold/Pokemon Silver</td>\n",
       "      <td>GB</td>\n",
       "      <td>1999.0</td>\n",
       "      <td>Role-Playing</td>\n",
       "      <td>Nintendo</td>\n",
       "      <td>9.00</td>\n",
       "      <td>6.18</td>\n",
       "      <td>7.20</td>\n",
       "      <td>0.71</td>\n",
       "      <td>23.10</td>\n",
       "      <td>10.140845</td>\n",
       "    </tr>\n",
       "    <tr>\n",
       "      <th>13</th>\n",
       "      <td>14</td>\n",
       "      <td>Wii Fit</td>\n",
       "      <td>Wii</td>\n",
       "      <td>2007.0</td>\n",
       "      <td>Sports</td>\n",
       "      <td>Nintendo</td>\n",
       "      <td>8.94</td>\n",
       "      <td>8.03</td>\n",
       "      <td>3.60</td>\n",
       "      <td>2.15</td>\n",
       "      <td>22.72</td>\n",
       "      <td>1.674419</td>\n",
       "    </tr>\n",
       "    <tr>\n",
       "      <th>14</th>\n",
       "      <td>15</td>\n",
       "      <td>Wii Fit Plus</td>\n",
       "      <td>Wii</td>\n",
       "      <td>2009.0</td>\n",
       "      <td>Sports</td>\n",
       "      <td>Nintendo</td>\n",
       "      <td>9.09</td>\n",
       "      <td>8.59</td>\n",
       "      <td>2.53</td>\n",
       "      <td>1.79</td>\n",
       "      <td>22.00</td>\n",
       "      <td>1.413408</td>\n",
       "    </tr>\n",
       "    <tr>\n",
       "      <th>18</th>\n",
       "      <td>19</td>\n",
       "      <td>Super Mario World</td>\n",
       "      <td>SNES</td>\n",
       "      <td>1990.0</td>\n",
       "      <td>Platform</td>\n",
       "      <td>Nintendo</td>\n",
       "      <td>12.78</td>\n",
       "      <td>3.75</td>\n",
       "      <td>3.54</td>\n",
       "      <td>0.55</td>\n",
       "      <td>20.61</td>\n",
       "      <td>6.436364</td>\n",
       "    </tr>\n",
       "    <tr>\n",
       "      <th>19</th>\n",
       "      <td>20</td>\n",
       "      <td>Brain Age: Train Your Brain in Minutes a Day</td>\n",
       "      <td>DS</td>\n",
       "      <td>2005.0</td>\n",
       "      <td>Misc</td>\n",
       "      <td>Nintendo</td>\n",
       "      <td>4.75</td>\n",
       "      <td>9.26</td>\n",
       "      <td>4.16</td>\n",
       "      <td>2.05</td>\n",
       "      <td>20.22</td>\n",
       "      <td>2.029268</td>\n",
       "    </tr>\n",
       "    <tr>\n",
       "      <th>20</th>\n",
       "      <td>21</td>\n",
       "      <td>Pokemon Diamond/Pokemon Pearl</td>\n",
       "      <td>DS</td>\n",
       "      <td>2006.0</td>\n",
       "      <td>Role-Playing</td>\n",
       "      <td>Nintendo</td>\n",
       "      <td>6.42</td>\n",
       "      <td>4.52</td>\n",
       "      <td>6.04</td>\n",
       "      <td>1.37</td>\n",
       "      <td>18.36</td>\n",
       "      <td>4.408759</td>\n",
       "    </tr>\n",
       "    <tr>\n",
       "      <th>21</th>\n",
       "      <td>22</td>\n",
       "      <td>Super Mario Land</td>\n",
       "      <td>GB</td>\n",
       "      <td>1989.0</td>\n",
       "      <td>Platform</td>\n",
       "      <td>Nintendo</td>\n",
       "      <td>10.83</td>\n",
       "      <td>2.71</td>\n",
       "      <td>4.18</td>\n",
       "      <td>0.42</td>\n",
       "      <td>18.14</td>\n",
       "      <td>9.952381</td>\n",
       "    </tr>\n",
       "    <tr>\n",
       "      <th>22</th>\n",
       "      <td>23</td>\n",
       "      <td>Super Mario Bros. 3</td>\n",
       "      <td>NES</td>\n",
       "      <td>1988.0</td>\n",
       "      <td>Platform</td>\n",
       "      <td>Nintendo</td>\n",
       "      <td>9.54</td>\n",
       "      <td>3.44</td>\n",
       "      <td>3.84</td>\n",
       "      <td>0.46</td>\n",
       "      <td>17.28</td>\n",
       "      <td>8.347826</td>\n",
       "    </tr>\n",
       "    <tr>\n",
       "      <th>25</th>\n",
       "      <td>26</td>\n",
       "      <td>Pokemon Ruby/Pokemon Sapphire</td>\n",
       "      <td>GBA</td>\n",
       "      <td>2002.0</td>\n",
       "      <td>Role-Playing</td>\n",
       "      <td>Nintendo</td>\n",
       "      <td>6.06</td>\n",
       "      <td>3.90</td>\n",
       "      <td>5.38</td>\n",
       "      <td>0.50</td>\n",
       "      <td>15.85</td>\n",
       "      <td>10.760000</td>\n",
       "    </tr>\n",
       "    <tr>\n",
       "      <th>26</th>\n",
       "      <td>27</td>\n",
       "      <td>Pokemon Black/Pokemon White</td>\n",
       "      <td>DS</td>\n",
       "      <td>2010.0</td>\n",
       "      <td>Role-Playing</td>\n",
       "      <td>Nintendo</td>\n",
       "      <td>5.57</td>\n",
       "      <td>3.28</td>\n",
       "      <td>5.65</td>\n",
       "      <td>0.82</td>\n",
       "      <td>15.32</td>\n",
       "      <td>6.890244</td>\n",
       "    </tr>\n",
       "    <tr>\n",
       "      <th>27</th>\n",
       "      <td>28</td>\n",
       "      <td>Brain Age 2: More Training in Minutes a Day</td>\n",
       "      <td>DS</td>\n",
       "      <td>2005.0</td>\n",
       "      <td>Puzzle</td>\n",
       "      <td>Nintendo</td>\n",
       "      <td>3.44</td>\n",
       "      <td>5.36</td>\n",
       "      <td>5.32</td>\n",
       "      <td>1.18</td>\n",
       "      <td>15.30</td>\n",
       "      <td>4.508475</td>\n",
       "    </tr>\n",
       "    <tr>\n",
       "      <th>30</th>\n",
       "      <td>31</td>\n",
       "      <td>Pokémon Yellow: Special Pikachu Edition</td>\n",
       "      <td>GB</td>\n",
       "      <td>1998.0</td>\n",
       "      <td>Role-Playing</td>\n",
       "      <td>Nintendo</td>\n",
       "      <td>5.89</td>\n",
       "      <td>5.04</td>\n",
       "      <td>3.12</td>\n",
       "      <td>0.59</td>\n",
       "      <td>14.64</td>\n",
       "      <td>5.288136</td>\n",
       "    </tr>\n",
       "    <tr>\n",
       "      <th>32</th>\n",
       "      <td>33</td>\n",
       "      <td>Pokemon X/Pokemon Y</td>\n",
       "      <td>3DS</td>\n",
       "      <td>2013.0</td>\n",
       "      <td>Role-Playing</td>\n",
       "      <td>Nintendo</td>\n",
       "      <td>5.17</td>\n",
       "      <td>4.05</td>\n",
       "      <td>4.34</td>\n",
       "      <td>0.79</td>\n",
       "      <td>14.35</td>\n",
       "      <td>5.493671</td>\n",
       "    </tr>\n",
       "    <tr>\n",
       "      <th>39</th>\n",
       "      <td>40</td>\n",
       "      <td>Super Smash Bros. Brawl</td>\n",
       "      <td>Wii</td>\n",
       "      <td>2008.0</td>\n",
       "      <td>Fighting</td>\n",
       "      <td>Nintendo</td>\n",
       "      <td>6.75</td>\n",
       "      <td>2.61</td>\n",
       "      <td>2.66</td>\n",
       "      <td>1.02</td>\n",
       "      <td>13.04</td>\n",
       "      <td>2.607843</td>\n",
       "    </tr>\n",
       "    <tr>\n",
       "      <th>41</th>\n",
       "      <td>42</td>\n",
       "      <td>Animal Crossing: Wild World</td>\n",
       "      <td>DS</td>\n",
       "      <td>2005.0</td>\n",
       "      <td>Simulation</td>\n",
       "      <td>Nintendo</td>\n",
       "      <td>2.55</td>\n",
       "      <td>3.52</td>\n",
       "      <td>5.33</td>\n",
       "      <td>0.88</td>\n",
       "      <td>12.27</td>\n",
       "      <td>6.056818</td>\n",
       "    </tr>\n",
       "    <tr>\n",
       "      <th>42</th>\n",
       "      <td>43</td>\n",
       "      <td>Mario Kart 7</td>\n",
       "      <td>3DS</td>\n",
       "      <td>2011.0</td>\n",
       "      <td>Racing</td>\n",
       "      <td>Nintendo</td>\n",
       "      <td>4.74</td>\n",
       "      <td>3.91</td>\n",
       "      <td>2.67</td>\n",
       "      <td>0.89</td>\n",
       "      <td>12.21</td>\n",
       "      <td>3.000000</td>\n",
       "    </tr>\n",
       "    <tr>\n",
       "      <th>45</th>\n",
       "      <td>46</td>\n",
       "      <td>Pokemon HeartGold/Pokemon SoulSilver</td>\n",
       "      <td>DS</td>\n",
       "      <td>2009.0</td>\n",
       "      <td>Action</td>\n",
       "      <td>Nintendo</td>\n",
       "      <td>4.40</td>\n",
       "      <td>2.77</td>\n",
       "      <td>3.96</td>\n",
       "      <td>0.77</td>\n",
       "      <td>11.90</td>\n",
       "      <td>5.142857</td>\n",
       "    </tr>\n",
       "    <tr>\n",
       "      <th>46</th>\n",
       "      <td>47</td>\n",
       "      <td>Super Mario 64</td>\n",
       "      <td>N64</td>\n",
       "      <td>1996.0</td>\n",
       "      <td>Platform</td>\n",
       "      <td>Nintendo</td>\n",
       "      <td>6.91</td>\n",
       "      <td>2.85</td>\n",
       "      <td>1.91</td>\n",
       "      <td>0.23</td>\n",
       "      <td>11.89</td>\n",
       "      <td>8.304348</td>\n",
       "    </tr>\n",
       "    <tr>\n",
       "      <th>48</th>\n",
       "      <td>49</td>\n",
       "      <td>Super Mario Galaxy</td>\n",
       "      <td>Wii</td>\n",
       "      <td>2007.0</td>\n",
       "      <td>Platform</td>\n",
       "      <td>Nintendo</td>\n",
       "      <td>6.16</td>\n",
       "      <td>3.40</td>\n",
       "      <td>1.20</td>\n",
       "      <td>0.76</td>\n",
       "      <td>11.52</td>\n",
       "      <td>1.578947</td>\n",
       "    </tr>\n",
       "    <tr>\n",
       "      <th>49</th>\n",
       "      <td>50</td>\n",
       "      <td>Pokemon Omega Ruby/Pokemon Alpha Sapphire</td>\n",
       "      <td>3DS</td>\n",
       "      <td>2014.0</td>\n",
       "      <td>Role-Playing</td>\n",
       "      <td>Nintendo</td>\n",
       "      <td>4.23</td>\n",
       "      <td>3.37</td>\n",
       "      <td>3.08</td>\n",
       "      <td>0.65</td>\n",
       "      <td>11.33</td>\n",
       "      <td>4.738462</td>\n",
       "    </tr>\n",
       "    <tr>\n",
       "      <th>50</th>\n",
       "      <td>51</td>\n",
       "      <td>Super Mario Land 2: 6 Golden Coins</td>\n",
       "      <td>GB</td>\n",
       "      <td>1992.0</td>\n",
       "      <td>Adventure</td>\n",
       "      <td>Nintendo</td>\n",
       "      <td>6.16</td>\n",
       "      <td>2.04</td>\n",
       "      <td>2.69</td>\n",
       "      <td>0.29</td>\n",
       "      <td>11.18</td>\n",
       "      <td>9.275862</td>\n",
       "    </tr>\n",
       "    <tr>\n",
       "      <th>53</th>\n",
       "      <td>54</td>\n",
       "      <td>Super Mario 3D Land</td>\n",
       "      <td>3DS</td>\n",
       "      <td>2011.0</td>\n",
       "      <td>Platform</td>\n",
       "      <td>Nintendo</td>\n",
       "      <td>4.89</td>\n",
       "      <td>2.99</td>\n",
       "      <td>2.13</td>\n",
       "      <td>0.78</td>\n",
       "      <td>10.79</td>\n",
       "      <td>2.730769</td>\n",
       "    </tr>\n",
       "    <tr>\n",
       "      <th>57</th>\n",
       "      <td>58</td>\n",
       "      <td>Super Mario All-Stars</td>\n",
       "      <td>SNES</td>\n",
       "      <td>1993.0</td>\n",
       "      <td>Platform</td>\n",
       "      <td>Nintendo</td>\n",
       "      <td>5.99</td>\n",
       "      <td>2.15</td>\n",
       "      <td>2.12</td>\n",
       "      <td>0.29</td>\n",
       "      <td>10.55</td>\n",
       "      <td>7.310345</td>\n",
       "    </tr>\n",
       "    <tr>\n",
       "      <th>58</th>\n",
       "      <td>59</td>\n",
       "      <td>Pokemon FireRed/Pokemon LeafGreen</td>\n",
       "      <td>GBA</td>\n",
       "      <td>2004.0</td>\n",
       "      <td>Role-Playing</td>\n",
       "      <td>Nintendo</td>\n",
       "      <td>4.34</td>\n",
       "      <td>2.65</td>\n",
       "      <td>3.15</td>\n",
       "      <td>0.35</td>\n",
       "      <td>10.49</td>\n",
       "      <td>9.000000</td>\n",
       "    </tr>\n",
       "    <tr>\n",
       "      <th>59</th>\n",
       "      <td>60</td>\n",
       "      <td>Super Mario 64</td>\n",
       "      <td>DS</td>\n",
       "      <td>2004.0</td>\n",
       "      <td>Platform</td>\n",
       "      <td>Nintendo</td>\n",
       "      <td>5.08</td>\n",
       "      <td>3.11</td>\n",
       "      <td>1.25</td>\n",
       "      <td>0.98</td>\n",
       "      <td>10.42</td>\n",
       "      <td>1.275510</td>\n",
       "    </tr>\n",
       "    <tr>\n",
       "      <th>63</th>\n",
       "      <td>64</td>\n",
       "      <td>Mario Kart 64</td>\n",
       "      <td>N64</td>\n",
       "      <td>1996.0</td>\n",
       "      <td>Racing</td>\n",
       "      <td>Nintendo</td>\n",
       "      <td>5.55</td>\n",
       "      <td>1.94</td>\n",
       "      <td>2.23</td>\n",
       "      <td>0.15</td>\n",
       "      <td>9.87</td>\n",
       "      <td>14.866667</td>\n",
       "    </tr>\n",
       "    <tr>\n",
       "      <th>64</th>\n",
       "      <td>65</td>\n",
       "      <td>New Super Mario Bros. 2</td>\n",
       "      <td>3DS</td>\n",
       "      <td>2012.0</td>\n",
       "      <td>Platform</td>\n",
       "      <td>Nintendo</td>\n",
       "      <td>3.66</td>\n",
       "      <td>3.07</td>\n",
       "      <td>2.47</td>\n",
       "      <td>0.63</td>\n",
       "      <td>9.82</td>\n",
       "      <td>3.920635</td>\n",
       "    </tr>\n",
       "    <tr>\n",
       "      <th>71</th>\n",
       "      <td>72</td>\n",
       "      <td>Donkey Kong Country</td>\n",
       "      <td>SNES</td>\n",
       "      <td>1994.0</td>\n",
       "      <td>Platform</td>\n",
       "      <td>Nintendo</td>\n",
       "      <td>4.36</td>\n",
       "      <td>1.71</td>\n",
       "      <td>3.00</td>\n",
       "      <td>0.23</td>\n",
       "      <td>9.30</td>\n",
       "      <td>13.043478</td>\n",
       "    </tr>\n",
       "    <tr>\n",
       "      <th>73</th>\n",
       "      <td>74</td>\n",
       "      <td>Animal Crossing: New Leaf</td>\n",
       "      <td>3DS</td>\n",
       "      <td>2012.0</td>\n",
       "      <td>Simulation</td>\n",
       "      <td>Nintendo</td>\n",
       "      <td>2.01</td>\n",
       "      <td>2.32</td>\n",
       "      <td>4.36</td>\n",
       "      <td>0.41</td>\n",
       "      <td>9.09</td>\n",
       "      <td>10.634146</td>\n",
       "    </tr>\n",
       "    <tr>\n",
       "      <th>74</th>\n",
       "      <td>75</td>\n",
       "      <td>Mario Party DS</td>\n",
       "      <td>DS</td>\n",
       "      <td>2007.0</td>\n",
       "      <td>Misc</td>\n",
       "      <td>Nintendo</td>\n",
       "      <td>4.46</td>\n",
       "      <td>1.88</td>\n",
       "      <td>1.98</td>\n",
       "      <td>0.70</td>\n",
       "      <td>9.02</td>\n",
       "      <td>2.828571</td>\n",
       "    </tr>\n",
       "    <tr>\n",
       "      <th>76</th>\n",
       "      <td>77</td>\n",
       "      <td>Super Mario Kart</td>\n",
       "      <td>SNES</td>\n",
       "      <td>1992.0</td>\n",
       "      <td>Racing</td>\n",
       "      <td>Nintendo</td>\n",
       "      <td>3.54</td>\n",
       "      <td>1.24</td>\n",
       "      <td>3.81</td>\n",
       "      <td>0.18</td>\n",
       "      <td>8.76</td>\n",
       "      <td>21.166667</td>\n",
       "    </tr>\n",
       "    <tr>\n",
       "      <th>78</th>\n",
       "      <td>79</td>\n",
       "      <td>Wii Party</td>\n",
       "      <td>Wii</td>\n",
       "      <td>2010.0</td>\n",
       "      <td>Misc</td>\n",
       "      <td>Nintendo</td>\n",
       "      <td>1.79</td>\n",
       "      <td>3.53</td>\n",
       "      <td>2.49</td>\n",
       "      <td>0.68</td>\n",
       "      <td>8.49</td>\n",
       "      <td>3.661765</td>\n",
       "    </tr>\n",
       "    <tr>\n",
       "      <th>80</th>\n",
       "      <td>81</td>\n",
       "      <td>Mario Party 8</td>\n",
       "      <td>Wii</td>\n",
       "      <td>2007.0</td>\n",
       "      <td>Misc</td>\n",
       "      <td>Nintendo</td>\n",
       "      <td>3.81</td>\n",
       "      <td>2.30</td>\n",
       "      <td>1.58</td>\n",
       "      <td>0.73</td>\n",
       "      <td>8.42</td>\n",
       "      <td>2.164384</td>\n",
       "    </tr>\n",
       "    <tr>\n",
       "      <th>81</th>\n",
       "      <td>82</td>\n",
       "      <td>Pokemon Black 2/Pokemon White 2</td>\n",
       "      <td>DS</td>\n",
       "      <td>2012.0</td>\n",
       "      <td>Role-Playing</td>\n",
       "      <td>Nintendo</td>\n",
       "      <td>2.91</td>\n",
       "      <td>1.86</td>\n",
       "      <td>3.14</td>\n",
       "      <td>0.43</td>\n",
       "      <td>8.33</td>\n",
       "      <td>7.302326</td>\n",
       "    </tr>\n",
       "    <tr>\n",
       "      <th>84</th>\n",
       "      <td>85</td>\n",
       "      <td>GoldenEye 007</td>\n",
       "      <td>N64</td>\n",
       "      <td>1997.0</td>\n",
       "      <td>Shooter</td>\n",
       "      <td>Nintendo</td>\n",
       "      <td>5.80</td>\n",
       "      <td>2.01</td>\n",
       "      <td>0.13</td>\n",
       "      <td>0.15</td>\n",
       "      <td>8.09</td>\n",
       "      <td>0.866667</td>\n",
       "    </tr>\n",
       "    <tr>\n",
       "      <th>88</th>\n",
       "      <td>89</td>\n",
       "      <td>Pokémon Platinum Version</td>\n",
       "      <td>DS</td>\n",
       "      <td>2008.0</td>\n",
       "      <td>Role-Playing</td>\n",
       "      <td>Nintendo</td>\n",
       "      <td>2.82</td>\n",
       "      <td>1.78</td>\n",
       "      <td>2.69</td>\n",
       "      <td>0.55</td>\n",
       "      <td>7.84</td>\n",
       "      <td>4.890909</td>\n",
       "    </tr>\n",
       "    <tr>\n",
       "      <th>91</th>\n",
       "      <td>92</td>\n",
       "      <td>Super Mario Galaxy 2</td>\n",
       "      <td>Wii</td>\n",
       "      <td>2010.0</td>\n",
       "      <td>Platform</td>\n",
       "      <td>Nintendo</td>\n",
       "      <td>3.66</td>\n",
       "      <td>2.42</td>\n",
       "      <td>0.98</td>\n",
       "      <td>0.64</td>\n",
       "      <td>7.69</td>\n",
       "      <td>1.531250</td>\n",
       "    </tr>\n",
       "    <tr>\n",
       "      <th>94</th>\n",
       "      <td>95</td>\n",
       "      <td>The Legend of Zelda: Ocarina of Time</td>\n",
       "      <td>N64</td>\n",
       "      <td>1998.0</td>\n",
       "      <td>Action</td>\n",
       "      <td>Nintendo</td>\n",
       "      <td>4.10</td>\n",
       "      <td>1.89</td>\n",
       "      <td>1.45</td>\n",
       "      <td>0.16</td>\n",
       "      <td>7.60</td>\n",
       "      <td>9.062500</td>\n",
       "    </tr>\n",
       "  </tbody>\n",
       "</table>\n",
       "</div>"
      ],
      "text/plain": [
       "    Rank                                          Name Platform    Year  \\\n",
       "0      1                                    Wii Sports      Wii  2006.0   \n",
       "1      2                             Super Mario Bros.      NES  1985.0   \n",
       "2      3                                Mario Kart Wii      Wii  2008.0   \n",
       "3      4                             Wii Sports Resort      Wii  2009.0   \n",
       "4      5                      Pokemon Red/Pokemon Blue       GB  1996.0   \n",
       "5      6                                        Tetris       GB  1989.0   \n",
       "6      7                         New Super Mario Bros.       DS  2006.0   \n",
       "7      8                                      Wii Play      Wii  2006.0   \n",
       "8      9                     New Super Mario Bros. Wii      Wii  2009.0   \n",
       "9     10                                     Duck Hunt      NES  1984.0   \n",
       "10    11                                    Nintendogs       DS  2005.0   \n",
       "11    12                                 Mario Kart DS       DS  2005.0   \n",
       "12    13                   Pokemon Gold/Pokemon Silver       GB  1999.0   \n",
       "13    14                                       Wii Fit      Wii  2007.0   \n",
       "14    15                                  Wii Fit Plus      Wii  2009.0   \n",
       "18    19                             Super Mario World     SNES  1990.0   \n",
       "19    20  Brain Age: Train Your Brain in Minutes a Day       DS  2005.0   \n",
       "20    21                 Pokemon Diamond/Pokemon Pearl       DS  2006.0   \n",
       "21    22                              Super Mario Land       GB  1989.0   \n",
       "22    23                           Super Mario Bros. 3      NES  1988.0   \n",
       "25    26                 Pokemon Ruby/Pokemon Sapphire      GBA  2002.0   \n",
       "26    27                   Pokemon Black/Pokemon White       DS  2010.0   \n",
       "27    28   Brain Age 2: More Training in Minutes a Day       DS  2005.0   \n",
       "30    31       Pokémon Yellow: Special Pikachu Edition       GB  1998.0   \n",
       "32    33                           Pokemon X/Pokemon Y      3DS  2013.0   \n",
       "39    40                       Super Smash Bros. Brawl      Wii  2008.0   \n",
       "41    42                   Animal Crossing: Wild World       DS  2005.0   \n",
       "42    43                                  Mario Kart 7      3DS  2011.0   \n",
       "45    46          Pokemon HeartGold/Pokemon SoulSilver       DS  2009.0   \n",
       "46    47                                Super Mario 64      N64  1996.0   \n",
       "48    49                            Super Mario Galaxy      Wii  2007.0   \n",
       "49    50     Pokemon Omega Ruby/Pokemon Alpha Sapphire      3DS  2014.0   \n",
       "50    51            Super Mario Land 2: 6 Golden Coins       GB  1992.0   \n",
       "53    54                           Super Mario 3D Land      3DS  2011.0   \n",
       "57    58                         Super Mario All-Stars     SNES  1993.0   \n",
       "58    59             Pokemon FireRed/Pokemon LeafGreen      GBA  2004.0   \n",
       "59    60                                Super Mario 64       DS  2004.0   \n",
       "63    64                                 Mario Kart 64      N64  1996.0   \n",
       "64    65                       New Super Mario Bros. 2      3DS  2012.0   \n",
       "71    72                           Donkey Kong Country     SNES  1994.0   \n",
       "73    74                     Animal Crossing: New Leaf      3DS  2012.0   \n",
       "74    75                                Mario Party DS       DS  2007.0   \n",
       "76    77                              Super Mario Kart     SNES  1992.0   \n",
       "78    79                                     Wii Party      Wii  2010.0   \n",
       "80    81                                 Mario Party 8      Wii  2007.0   \n",
       "81    82               Pokemon Black 2/Pokemon White 2       DS  2012.0   \n",
       "84    85                                 GoldenEye 007      N64  1997.0   \n",
       "88    89                      Pokémon Platinum Version       DS  2008.0   \n",
       "91    92                          Super Mario Galaxy 2      Wii  2010.0   \n",
       "94    95          The Legend of Zelda: Ocarina of Time      N64  1998.0   \n",
       "\n",
       "           Genre Publisher  NA_Sales  EU_Sales  JP_Sales  Other_Sales  \\\n",
       "0         Sports  Nintendo     41.49     29.02      3.77         8.46   \n",
       "1       Platform  Nintendo     29.08      3.58      6.81         0.77   \n",
       "2         Racing  Nintendo     15.85     12.88      3.79         3.31   \n",
       "3         Sports  Nintendo     15.75     11.01      3.28         2.96   \n",
       "4   Role-Playing  Nintendo     11.27      8.89     10.22         1.00   \n",
       "5         Puzzle  Nintendo     23.20      2.26      4.22         0.58   \n",
       "6       Platform  Nintendo     11.38      9.23      6.50         2.90   \n",
       "7           Misc  Nintendo     14.03      9.20      2.93         2.85   \n",
       "8       Platform  Nintendo     14.59      7.06      4.70         2.26   \n",
       "9        Shooter  Nintendo     26.93      0.63      0.28         0.47   \n",
       "10    Simulation  Nintendo      9.07     11.00      1.93         2.75   \n",
       "11        Racing  Nintendo      9.81      7.57      4.13         1.92   \n",
       "12  Role-Playing  Nintendo      9.00      6.18      7.20         0.71   \n",
       "13        Sports  Nintendo      8.94      8.03      3.60         2.15   \n",
       "14        Sports  Nintendo      9.09      8.59      2.53         1.79   \n",
       "18      Platform  Nintendo     12.78      3.75      3.54         0.55   \n",
       "19          Misc  Nintendo      4.75      9.26      4.16         2.05   \n",
       "20  Role-Playing  Nintendo      6.42      4.52      6.04         1.37   \n",
       "21      Platform  Nintendo     10.83      2.71      4.18         0.42   \n",
       "22      Platform  Nintendo      9.54      3.44      3.84         0.46   \n",
       "25  Role-Playing  Nintendo      6.06      3.90      5.38         0.50   \n",
       "26  Role-Playing  Nintendo      5.57      3.28      5.65         0.82   \n",
       "27        Puzzle  Nintendo      3.44      5.36      5.32         1.18   \n",
       "30  Role-Playing  Nintendo      5.89      5.04      3.12         0.59   \n",
       "32  Role-Playing  Nintendo      5.17      4.05      4.34         0.79   \n",
       "39      Fighting  Nintendo      6.75      2.61      2.66         1.02   \n",
       "41    Simulation  Nintendo      2.55      3.52      5.33         0.88   \n",
       "42        Racing  Nintendo      4.74      3.91      2.67         0.89   \n",
       "45        Action  Nintendo      4.40      2.77      3.96         0.77   \n",
       "46      Platform  Nintendo      6.91      2.85      1.91         0.23   \n",
       "48      Platform  Nintendo      6.16      3.40      1.20         0.76   \n",
       "49  Role-Playing  Nintendo      4.23      3.37      3.08         0.65   \n",
       "50     Adventure  Nintendo      6.16      2.04      2.69         0.29   \n",
       "53      Platform  Nintendo      4.89      2.99      2.13         0.78   \n",
       "57      Platform  Nintendo      5.99      2.15      2.12         0.29   \n",
       "58  Role-Playing  Nintendo      4.34      2.65      3.15         0.35   \n",
       "59      Platform  Nintendo      5.08      3.11      1.25         0.98   \n",
       "63        Racing  Nintendo      5.55      1.94      2.23         0.15   \n",
       "64      Platform  Nintendo      3.66      3.07      2.47         0.63   \n",
       "71      Platform  Nintendo      4.36      1.71      3.00         0.23   \n",
       "73    Simulation  Nintendo      2.01      2.32      4.36         0.41   \n",
       "74          Misc  Nintendo      4.46      1.88      1.98         0.70   \n",
       "76        Racing  Nintendo      3.54      1.24      3.81         0.18   \n",
       "78          Misc  Nintendo      1.79      3.53      2.49         0.68   \n",
       "80          Misc  Nintendo      3.81      2.30      1.58         0.73   \n",
       "81  Role-Playing  Nintendo      2.91      1.86      3.14         0.43   \n",
       "84       Shooter  Nintendo      5.80      2.01      0.13         0.15   \n",
       "88  Role-Playing  Nintendo      2.82      1.78      2.69         0.55   \n",
       "91      Platform  Nintendo      3.66      2.42      0.98         0.64   \n",
       "94        Action  Nintendo      4.10      1.89      1.45         0.16   \n",
       "\n",
       "    Global_Sales  Japan to Other Sale Ratio  \n",
       "0          82.74                   0.445626  \n",
       "1          40.24                   8.844156  \n",
       "2          35.82                   1.145015  \n",
       "3          33.00                   1.108108  \n",
       "4          31.37                  10.220000  \n",
       "5          30.26                   7.275862  \n",
       "6          30.01                   2.241379  \n",
       "7          29.02                   1.028070  \n",
       "8          28.62                   2.079646  \n",
       "9          28.31                   0.595745  \n",
       "10         24.76                   0.701818  \n",
       "11         23.42                   2.151042  \n",
       "12         23.10                  10.140845  \n",
       "13         22.72                   1.674419  \n",
       "14         22.00                   1.413408  \n",
       "18         20.61                   6.436364  \n",
       "19         20.22                   2.029268  \n",
       "20         18.36                   4.408759  \n",
       "21         18.14                   9.952381  \n",
       "22         17.28                   8.347826  \n",
       "25         15.85                  10.760000  \n",
       "26         15.32                   6.890244  \n",
       "27         15.30                   4.508475  \n",
       "30         14.64                   5.288136  \n",
       "32         14.35                   5.493671  \n",
       "39         13.04                   2.607843  \n",
       "41         12.27                   6.056818  \n",
       "42         12.21                   3.000000  \n",
       "45         11.90                   5.142857  \n",
       "46         11.89                   8.304348  \n",
       "48         11.52                   1.578947  \n",
       "49         11.33                   4.738462  \n",
       "50         11.18                   9.275862  \n",
       "53         10.79                   2.730769  \n",
       "57         10.55                   7.310345  \n",
       "58         10.49                   9.000000  \n",
       "59         10.42                   1.275510  \n",
       "63          9.87                  14.866667  \n",
       "64          9.82                   3.920635  \n",
       "71          9.30                  13.043478  \n",
       "73          9.09                  10.634146  \n",
       "74          9.02                   2.828571  \n",
       "76          8.76                  21.166667  \n",
       "78          8.49                   3.661765  \n",
       "80          8.42                   2.164384  \n",
       "81          8.33                   7.302326  \n",
       "84          8.09                   0.866667  \n",
       "88          7.84                   4.890909  \n",
       "91          7.69                   1.531250  \n",
       "94          7.60                   9.062500  "
      ]
     },
     "execution_count": 51,
     "metadata": {},
     "output_type": "execute_result"
    }
   ],
   "source": [
    "df = df[df['Publisher']=='Nintendo']\n",
    "df['Japan to Other Sale Ratio']=df['JP_Sales']/df['Other_Sales']\n",
    "df.head(50)"
   ]
  },
  {
   "cell_type": "code",
   "execution_count": 52,
   "id": "21a912ec",
   "metadata": {},
   "outputs": [
    {
     "data": {
      "application/vnd.plotly.v1+json": {
       "config": {
        "plotlyServerURL": "https://plot.ly"
       },
       "data": [
        {
         "coloraxis": "coloraxis",
         "hovertemplate": "x: %{x}<br>y: %{y}<br>color: %{z}<extra></extra>",
         "name": "0",
         "texttemplate": "%{z}",
         "type": "heatmap",
         "x": [
          "Rank",
          "Year",
          "NA_Sales",
          "EU_Sales",
          "JP_Sales",
          "Other_Sales",
          "Global_Sales",
          "Japan to Other Sale Ratio"
         ],
         "xaxis": "x",
         "y": [
          "Rank",
          "Year",
          "NA_Sales",
          "EU_Sales",
          "JP_Sales",
          "Other_Sales",
          "Global_Sales",
          "Japan to Other Sale Ratio"
         ],
         "yaxis": "y",
         "z": [
          [
           1,
           0.25869073815008875,
           -0.32642736866196964,
           -0.29477153954229063,
           -0.44163209405528636,
           -0.25213924964014617,
           -0.3657761097021754,
           -0.09325126984047644
          ],
          [
           0.25869073815008875,
           1,
           -0.1480385995253168,
           0.021345529527047984,
           -0.1767213538393306,
           0.05844531713090381,
           -0.0997320703299926,
           -0.4054511929151408
          ],
          [
           -0.32642736866196964,
           -0.1480385995253168,
           1,
           0.8035737987757956,
           0.6162813001940904,
           0.7858901009763908,
           0.9531687839472016,
           -0.11798805894634248
          ],
          [
           -0.29477153954229063,
           0.021345529527047984,
           0.8035737987757956,
           1,
           0.6283714992723829,
           0.9690802850607103,
           0.9273067183193319,
           -0.14123418423825754
          ],
          [
           -0.44163209405528636,
           -0.1767213538393306,
           0.6162813001940904,
           0.6283714992723829,
           1,
           0.5318563184358674,
           0.7483364230689729,
           0.1323063445163096
          ],
          [
           -0.25213924964014617,
           0.05844531713090381,
           0.7858901009763908,
           0.9690802850607103,
           0.5318563184358674,
           1,
           0.8929634883282116,
           -0.14850744141390854
          ],
          [
           -0.3657761097021754,
           -0.0997320703299926,
           0.9531687839472016,
           0.9273067183193319,
           0.7483364230689729,
           0.8929634883282116,
           1,
           -0.09415987305226728
          ],
          [
           -0.09325126984047644,
           -0.4054511929151408,
           -0.11798805894634248,
           -0.14123418423825754,
           0.1323063445163096,
           -0.14850744141390854,
           -0.09415987305226728,
           1
          ]
         ]
        }
       ],
       "layout": {
        "coloraxis": {
         "colorscale": [
          [
           0,
           "#0d0887"
          ],
          [
           0.1111111111111111,
           "#46039f"
          ],
          [
           0.2222222222222222,
           "#7201a8"
          ],
          [
           0.3333333333333333,
           "#9c179e"
          ],
          [
           0.4444444444444444,
           "#bd3786"
          ],
          [
           0.5555555555555556,
           "#d8576b"
          ],
          [
           0.6666666666666666,
           "#ed7953"
          ],
          [
           0.7777777777777778,
           "#fb9f3a"
          ],
          [
           0.8888888888888888,
           "#fdca26"
          ],
          [
           1,
           "#f0f921"
          ]
         ]
        },
        "margin": {
         "t": 60
        },
        "template": {
         "data": {
          "bar": [
           {
            "error_x": {
             "color": "#2a3f5f"
            },
            "error_y": {
             "color": "#2a3f5f"
            },
            "marker": {
             "line": {
              "color": "#E5ECF6",
              "width": 0.5
             },
             "pattern": {
              "fillmode": "overlay",
              "size": 10,
              "solidity": 0.2
             }
            },
            "type": "bar"
           }
          ],
          "barpolar": [
           {
            "marker": {
             "line": {
              "color": "#E5ECF6",
              "width": 0.5
             },
             "pattern": {
              "fillmode": "overlay",
              "size": 10,
              "solidity": 0.2
             }
            },
            "type": "barpolar"
           }
          ],
          "carpet": [
           {
            "aaxis": {
             "endlinecolor": "#2a3f5f",
             "gridcolor": "white",
             "linecolor": "white",
             "minorgridcolor": "white",
             "startlinecolor": "#2a3f5f"
            },
            "baxis": {
             "endlinecolor": "#2a3f5f",
             "gridcolor": "white",
             "linecolor": "white",
             "minorgridcolor": "white",
             "startlinecolor": "#2a3f5f"
            },
            "type": "carpet"
           }
          ],
          "choropleth": [
           {
            "colorbar": {
             "outlinewidth": 0,
             "ticks": ""
            },
            "type": "choropleth"
           }
          ],
          "contour": [
           {
            "colorbar": {
             "outlinewidth": 0,
             "ticks": ""
            },
            "colorscale": [
             [
              0,
              "#0d0887"
             ],
             [
              0.1111111111111111,
              "#46039f"
             ],
             [
              0.2222222222222222,
              "#7201a8"
             ],
             [
              0.3333333333333333,
              "#9c179e"
             ],
             [
              0.4444444444444444,
              "#bd3786"
             ],
             [
              0.5555555555555556,
              "#d8576b"
             ],
             [
              0.6666666666666666,
              "#ed7953"
             ],
             [
              0.7777777777777778,
              "#fb9f3a"
             ],
             [
              0.8888888888888888,
              "#fdca26"
             ],
             [
              1,
              "#f0f921"
             ]
            ],
            "type": "contour"
           }
          ],
          "contourcarpet": [
           {
            "colorbar": {
             "outlinewidth": 0,
             "ticks": ""
            },
            "type": "contourcarpet"
           }
          ],
          "heatmap": [
           {
            "colorbar": {
             "outlinewidth": 0,
             "ticks": ""
            },
            "colorscale": [
             [
              0,
              "#0d0887"
             ],
             [
              0.1111111111111111,
              "#46039f"
             ],
             [
              0.2222222222222222,
              "#7201a8"
             ],
             [
              0.3333333333333333,
              "#9c179e"
             ],
             [
              0.4444444444444444,
              "#bd3786"
             ],
             [
              0.5555555555555556,
              "#d8576b"
             ],
             [
              0.6666666666666666,
              "#ed7953"
             ],
             [
              0.7777777777777778,
              "#fb9f3a"
             ],
             [
              0.8888888888888888,
              "#fdca26"
             ],
             [
              1,
              "#f0f921"
             ]
            ],
            "type": "heatmap"
           }
          ],
          "heatmapgl": [
           {
            "colorbar": {
             "outlinewidth": 0,
             "ticks": ""
            },
            "colorscale": [
             [
              0,
              "#0d0887"
             ],
             [
              0.1111111111111111,
              "#46039f"
             ],
             [
              0.2222222222222222,
              "#7201a8"
             ],
             [
              0.3333333333333333,
              "#9c179e"
             ],
             [
              0.4444444444444444,
              "#bd3786"
             ],
             [
              0.5555555555555556,
              "#d8576b"
             ],
             [
              0.6666666666666666,
              "#ed7953"
             ],
             [
              0.7777777777777778,
              "#fb9f3a"
             ],
             [
              0.8888888888888888,
              "#fdca26"
             ],
             [
              1,
              "#f0f921"
             ]
            ],
            "type": "heatmapgl"
           }
          ],
          "histogram": [
           {
            "marker": {
             "pattern": {
              "fillmode": "overlay",
              "size": 10,
              "solidity": 0.2
             }
            },
            "type": "histogram"
           }
          ],
          "histogram2d": [
           {
            "colorbar": {
             "outlinewidth": 0,
             "ticks": ""
            },
            "colorscale": [
             [
              0,
              "#0d0887"
             ],
             [
              0.1111111111111111,
              "#46039f"
             ],
             [
              0.2222222222222222,
              "#7201a8"
             ],
             [
              0.3333333333333333,
              "#9c179e"
             ],
             [
              0.4444444444444444,
              "#bd3786"
             ],
             [
              0.5555555555555556,
              "#d8576b"
             ],
             [
              0.6666666666666666,
              "#ed7953"
             ],
             [
              0.7777777777777778,
              "#fb9f3a"
             ],
             [
              0.8888888888888888,
              "#fdca26"
             ],
             [
              1,
              "#f0f921"
             ]
            ],
            "type": "histogram2d"
           }
          ],
          "histogram2dcontour": [
           {
            "colorbar": {
             "outlinewidth": 0,
             "ticks": ""
            },
            "colorscale": [
             [
              0,
              "#0d0887"
             ],
             [
              0.1111111111111111,
              "#46039f"
             ],
             [
              0.2222222222222222,
              "#7201a8"
             ],
             [
              0.3333333333333333,
              "#9c179e"
             ],
             [
              0.4444444444444444,
              "#bd3786"
             ],
             [
              0.5555555555555556,
              "#d8576b"
             ],
             [
              0.6666666666666666,
              "#ed7953"
             ],
             [
              0.7777777777777778,
              "#fb9f3a"
             ],
             [
              0.8888888888888888,
              "#fdca26"
             ],
             [
              1,
              "#f0f921"
             ]
            ],
            "type": "histogram2dcontour"
           }
          ],
          "mesh3d": [
           {
            "colorbar": {
             "outlinewidth": 0,
             "ticks": ""
            },
            "type": "mesh3d"
           }
          ],
          "parcoords": [
           {
            "line": {
             "colorbar": {
              "outlinewidth": 0,
              "ticks": ""
             }
            },
            "type": "parcoords"
           }
          ],
          "pie": [
           {
            "automargin": true,
            "type": "pie"
           }
          ],
          "scatter": [
           {
            "marker": {
             "colorbar": {
              "outlinewidth": 0,
              "ticks": ""
             }
            },
            "type": "scatter"
           }
          ],
          "scatter3d": [
           {
            "line": {
             "colorbar": {
              "outlinewidth": 0,
              "ticks": ""
             }
            },
            "marker": {
             "colorbar": {
              "outlinewidth": 0,
              "ticks": ""
             }
            },
            "type": "scatter3d"
           }
          ],
          "scattercarpet": [
           {
            "marker": {
             "colorbar": {
              "outlinewidth": 0,
              "ticks": ""
             }
            },
            "type": "scattercarpet"
           }
          ],
          "scattergeo": [
           {
            "marker": {
             "colorbar": {
              "outlinewidth": 0,
              "ticks": ""
             }
            },
            "type": "scattergeo"
           }
          ],
          "scattergl": [
           {
            "marker": {
             "colorbar": {
              "outlinewidth": 0,
              "ticks": ""
             }
            },
            "type": "scattergl"
           }
          ],
          "scattermapbox": [
           {
            "marker": {
             "colorbar": {
              "outlinewidth": 0,
              "ticks": ""
             }
            },
            "type": "scattermapbox"
           }
          ],
          "scatterpolar": [
           {
            "marker": {
             "colorbar": {
              "outlinewidth": 0,
              "ticks": ""
             }
            },
            "type": "scatterpolar"
           }
          ],
          "scatterpolargl": [
           {
            "marker": {
             "colorbar": {
              "outlinewidth": 0,
              "ticks": ""
             }
            },
            "type": "scatterpolargl"
           }
          ],
          "scatterternary": [
           {
            "marker": {
             "colorbar": {
              "outlinewidth": 0,
              "ticks": ""
             }
            },
            "type": "scatterternary"
           }
          ],
          "surface": [
           {
            "colorbar": {
             "outlinewidth": 0,
             "ticks": ""
            },
            "colorscale": [
             [
              0,
              "#0d0887"
             ],
             [
              0.1111111111111111,
              "#46039f"
             ],
             [
              0.2222222222222222,
              "#7201a8"
             ],
             [
              0.3333333333333333,
              "#9c179e"
             ],
             [
              0.4444444444444444,
              "#bd3786"
             ],
             [
              0.5555555555555556,
              "#d8576b"
             ],
             [
              0.6666666666666666,
              "#ed7953"
             ],
             [
              0.7777777777777778,
              "#fb9f3a"
             ],
             [
              0.8888888888888888,
              "#fdca26"
             ],
             [
              1,
              "#f0f921"
             ]
            ],
            "type": "surface"
           }
          ],
          "table": [
           {
            "cells": {
             "fill": {
              "color": "#EBF0F8"
             },
             "line": {
              "color": "white"
             }
            },
            "header": {
             "fill": {
              "color": "#C8D4E3"
             },
             "line": {
              "color": "white"
             }
            },
            "type": "table"
           }
          ]
         },
         "layout": {
          "annotationdefaults": {
           "arrowcolor": "#2a3f5f",
           "arrowhead": 0,
           "arrowwidth": 1
          },
          "autotypenumbers": "strict",
          "coloraxis": {
           "colorbar": {
            "outlinewidth": 0,
            "ticks": ""
           }
          },
          "colorscale": {
           "diverging": [
            [
             0,
             "#8e0152"
            ],
            [
             0.1,
             "#c51b7d"
            ],
            [
             0.2,
             "#de77ae"
            ],
            [
             0.3,
             "#f1b6da"
            ],
            [
             0.4,
             "#fde0ef"
            ],
            [
             0.5,
             "#f7f7f7"
            ],
            [
             0.6,
             "#e6f5d0"
            ],
            [
             0.7,
             "#b8e186"
            ],
            [
             0.8,
             "#7fbc41"
            ],
            [
             0.9,
             "#4d9221"
            ],
            [
             1,
             "#276419"
            ]
           ],
           "sequential": [
            [
             0,
             "#0d0887"
            ],
            [
             0.1111111111111111,
             "#46039f"
            ],
            [
             0.2222222222222222,
             "#7201a8"
            ],
            [
             0.3333333333333333,
             "#9c179e"
            ],
            [
             0.4444444444444444,
             "#bd3786"
            ],
            [
             0.5555555555555556,
             "#d8576b"
            ],
            [
             0.6666666666666666,
             "#ed7953"
            ],
            [
             0.7777777777777778,
             "#fb9f3a"
            ],
            [
             0.8888888888888888,
             "#fdca26"
            ],
            [
             1,
             "#f0f921"
            ]
           ],
           "sequentialminus": [
            [
             0,
             "#0d0887"
            ],
            [
             0.1111111111111111,
             "#46039f"
            ],
            [
             0.2222222222222222,
             "#7201a8"
            ],
            [
             0.3333333333333333,
             "#9c179e"
            ],
            [
             0.4444444444444444,
             "#bd3786"
            ],
            [
             0.5555555555555556,
             "#d8576b"
            ],
            [
             0.6666666666666666,
             "#ed7953"
            ],
            [
             0.7777777777777778,
             "#fb9f3a"
            ],
            [
             0.8888888888888888,
             "#fdca26"
            ],
            [
             1,
             "#f0f921"
            ]
           ]
          },
          "colorway": [
           "#636efa",
           "#EF553B",
           "#00cc96",
           "#ab63fa",
           "#FFA15A",
           "#19d3f3",
           "#FF6692",
           "#B6E880",
           "#FF97FF",
           "#FECB52"
          ],
          "font": {
           "color": "#2a3f5f"
          },
          "geo": {
           "bgcolor": "white",
           "lakecolor": "white",
           "landcolor": "#E5ECF6",
           "showlakes": true,
           "showland": true,
           "subunitcolor": "white"
          },
          "hoverlabel": {
           "align": "left"
          },
          "hovermode": "closest",
          "mapbox": {
           "style": "light"
          },
          "paper_bgcolor": "white",
          "plot_bgcolor": "#E5ECF6",
          "polar": {
           "angularaxis": {
            "gridcolor": "white",
            "linecolor": "white",
            "ticks": ""
           },
           "bgcolor": "#E5ECF6",
           "radialaxis": {
            "gridcolor": "white",
            "linecolor": "white",
            "ticks": ""
           }
          },
          "scene": {
           "xaxis": {
            "backgroundcolor": "#E5ECF6",
            "gridcolor": "white",
            "gridwidth": 2,
            "linecolor": "white",
            "showbackground": true,
            "ticks": "",
            "zerolinecolor": "white"
           },
           "yaxis": {
            "backgroundcolor": "#E5ECF6",
            "gridcolor": "white",
            "gridwidth": 2,
            "linecolor": "white",
            "showbackground": true,
            "ticks": "",
            "zerolinecolor": "white"
           },
           "zaxis": {
            "backgroundcolor": "#E5ECF6",
            "gridcolor": "white",
            "gridwidth": 2,
            "linecolor": "white",
            "showbackground": true,
            "ticks": "",
            "zerolinecolor": "white"
           }
          },
          "shapedefaults": {
           "line": {
            "color": "#2a3f5f"
           }
          },
          "ternary": {
           "aaxis": {
            "gridcolor": "white",
            "linecolor": "white",
            "ticks": ""
           },
           "baxis": {
            "gridcolor": "white",
            "linecolor": "white",
            "ticks": ""
           },
           "bgcolor": "#E5ECF6",
           "caxis": {
            "gridcolor": "white",
            "linecolor": "white",
            "ticks": ""
           }
          },
          "title": {
           "x": 0.05
          },
          "xaxis": {
           "automargin": true,
           "gridcolor": "white",
           "linecolor": "white",
           "ticks": "",
           "title": {
            "standoff": 15
           },
           "zerolinecolor": "white",
           "zerolinewidth": 2
          },
          "yaxis": {
           "automargin": true,
           "gridcolor": "white",
           "linecolor": "white",
           "ticks": "",
           "title": {
            "standoff": 15
           },
           "zerolinecolor": "white",
           "zerolinewidth": 2
          }
         }
        },
        "xaxis": {
         "anchor": "y",
         "constrain": "domain",
         "domain": [
          0,
          1
         ],
         "scaleanchor": "y"
        },
        "yaxis": {
         "anchor": "x",
         "autorange": "reversed",
         "constrain": "domain",
         "domain": [
          0,
          1
         ]
        }
       }
      },
      "text/html": [
       "<div>                            <div id=\"7777f896-a565-4568-a731-953e855ecb60\" class=\"plotly-graph-div\" style=\"height:525px; width:100%;\"></div>            <script type=\"text/javascript\">                require([\"plotly\"], function(Plotly) {                    window.PLOTLYENV=window.PLOTLYENV || {};                                    if (document.getElementById(\"7777f896-a565-4568-a731-953e855ecb60\")) {                    Plotly.newPlot(                        \"7777f896-a565-4568-a731-953e855ecb60\",                        [{\"coloraxis\":\"coloraxis\",\"name\":\"0\",\"texttemplate\":\"%{z}\",\"x\":[\"Rank\",\"Year\",\"NA_Sales\",\"EU_Sales\",\"JP_Sales\",\"Other_Sales\",\"Global_Sales\",\"Japan to Other Sale Ratio\"],\"y\":[\"Rank\",\"Year\",\"NA_Sales\",\"EU_Sales\",\"JP_Sales\",\"Other_Sales\",\"Global_Sales\",\"Japan to Other Sale Ratio\"],\"z\":[[1.0,0.25869073815008875,-0.32642736866196964,-0.29477153954229063,-0.44163209405528636,-0.25213924964014617,-0.3657761097021754,-0.09325126984047644],[0.25869073815008875,1.0,-0.1480385995253168,0.021345529527047984,-0.1767213538393306,0.05844531713090381,-0.0997320703299926,-0.4054511929151408],[-0.32642736866196964,-0.1480385995253168,1.0,0.8035737987757956,0.6162813001940904,0.7858901009763908,0.9531687839472016,-0.11798805894634248],[-0.29477153954229063,0.021345529527047984,0.8035737987757956,1.0,0.6283714992723829,0.9690802850607103,0.9273067183193319,-0.14123418423825754],[-0.44163209405528636,-0.1767213538393306,0.6162813001940904,0.6283714992723829,1.0,0.5318563184358674,0.7483364230689729,0.1323063445163096],[-0.25213924964014617,0.05844531713090381,0.7858901009763908,0.9690802850607103,0.5318563184358674,1.0,0.8929634883282116,-0.14850744141390854],[-0.3657761097021754,-0.0997320703299926,0.9531687839472016,0.9273067183193319,0.7483364230689729,0.8929634883282116,1.0,-0.09415987305226728],[-0.09325126984047644,-0.4054511929151408,-0.11798805894634248,-0.14123418423825754,0.1323063445163096,-0.14850744141390854,-0.09415987305226728,1.0]],\"type\":\"heatmap\",\"xaxis\":\"x\",\"yaxis\":\"y\",\"hovertemplate\":\"x: %{x}<br>y: %{y}<br>color: %{z}<extra></extra>\"}],                        {\"template\":{\"data\":{\"bar\":[{\"error_x\":{\"color\":\"#2a3f5f\"},\"error_y\":{\"color\":\"#2a3f5f\"},\"marker\":{\"line\":{\"color\":\"#E5ECF6\",\"width\":0.5},\"pattern\":{\"fillmode\":\"overlay\",\"size\":10,\"solidity\":0.2}},\"type\":\"bar\"}],\"barpolar\":[{\"marker\":{\"line\":{\"color\":\"#E5ECF6\",\"width\":0.5},\"pattern\":{\"fillmode\":\"overlay\",\"size\":10,\"solidity\":0.2}},\"type\":\"barpolar\"}],\"carpet\":[{\"aaxis\":{\"endlinecolor\":\"#2a3f5f\",\"gridcolor\":\"white\",\"linecolor\":\"white\",\"minorgridcolor\":\"white\",\"startlinecolor\":\"#2a3f5f\"},\"baxis\":{\"endlinecolor\":\"#2a3f5f\",\"gridcolor\":\"white\",\"linecolor\":\"white\",\"minorgridcolor\":\"white\",\"startlinecolor\":\"#2a3f5f\"},\"type\":\"carpet\"}],\"choropleth\":[{\"colorbar\":{\"outlinewidth\":0,\"ticks\":\"\"},\"type\":\"choropleth\"}],\"contour\":[{\"colorbar\":{\"outlinewidth\":0,\"ticks\":\"\"},\"colorscale\":[[0.0,\"#0d0887\"],[0.1111111111111111,\"#46039f\"],[0.2222222222222222,\"#7201a8\"],[0.3333333333333333,\"#9c179e\"],[0.4444444444444444,\"#bd3786\"],[0.5555555555555556,\"#d8576b\"],[0.6666666666666666,\"#ed7953\"],[0.7777777777777778,\"#fb9f3a\"],[0.8888888888888888,\"#fdca26\"],[1.0,\"#f0f921\"]],\"type\":\"contour\"}],\"contourcarpet\":[{\"colorbar\":{\"outlinewidth\":0,\"ticks\":\"\"},\"type\":\"contourcarpet\"}],\"heatmap\":[{\"colorbar\":{\"outlinewidth\":0,\"ticks\":\"\"},\"colorscale\":[[0.0,\"#0d0887\"],[0.1111111111111111,\"#46039f\"],[0.2222222222222222,\"#7201a8\"],[0.3333333333333333,\"#9c179e\"],[0.4444444444444444,\"#bd3786\"],[0.5555555555555556,\"#d8576b\"],[0.6666666666666666,\"#ed7953\"],[0.7777777777777778,\"#fb9f3a\"],[0.8888888888888888,\"#fdca26\"],[1.0,\"#f0f921\"]],\"type\":\"heatmap\"}],\"heatmapgl\":[{\"colorbar\":{\"outlinewidth\":0,\"ticks\":\"\"},\"colorscale\":[[0.0,\"#0d0887\"],[0.1111111111111111,\"#46039f\"],[0.2222222222222222,\"#7201a8\"],[0.3333333333333333,\"#9c179e\"],[0.4444444444444444,\"#bd3786\"],[0.5555555555555556,\"#d8576b\"],[0.6666666666666666,\"#ed7953\"],[0.7777777777777778,\"#fb9f3a\"],[0.8888888888888888,\"#fdca26\"],[1.0,\"#f0f921\"]],\"type\":\"heatmapgl\"}],\"histogram\":[{\"marker\":{\"pattern\":{\"fillmode\":\"overlay\",\"size\":10,\"solidity\":0.2}},\"type\":\"histogram\"}],\"histogram2d\":[{\"colorbar\":{\"outlinewidth\":0,\"ticks\":\"\"},\"colorscale\":[[0.0,\"#0d0887\"],[0.1111111111111111,\"#46039f\"],[0.2222222222222222,\"#7201a8\"],[0.3333333333333333,\"#9c179e\"],[0.4444444444444444,\"#bd3786\"],[0.5555555555555556,\"#d8576b\"],[0.6666666666666666,\"#ed7953\"],[0.7777777777777778,\"#fb9f3a\"],[0.8888888888888888,\"#fdca26\"],[1.0,\"#f0f921\"]],\"type\":\"histogram2d\"}],\"histogram2dcontour\":[{\"colorbar\":{\"outlinewidth\":0,\"ticks\":\"\"},\"colorscale\":[[0.0,\"#0d0887\"],[0.1111111111111111,\"#46039f\"],[0.2222222222222222,\"#7201a8\"],[0.3333333333333333,\"#9c179e\"],[0.4444444444444444,\"#bd3786\"],[0.5555555555555556,\"#d8576b\"],[0.6666666666666666,\"#ed7953\"],[0.7777777777777778,\"#fb9f3a\"],[0.8888888888888888,\"#fdca26\"],[1.0,\"#f0f921\"]],\"type\":\"histogram2dcontour\"}],\"mesh3d\":[{\"colorbar\":{\"outlinewidth\":0,\"ticks\":\"\"},\"type\":\"mesh3d\"}],\"parcoords\":[{\"line\":{\"colorbar\":{\"outlinewidth\":0,\"ticks\":\"\"}},\"type\":\"parcoords\"}],\"pie\":[{\"automargin\":true,\"type\":\"pie\"}],\"scatter\":[{\"marker\":{\"colorbar\":{\"outlinewidth\":0,\"ticks\":\"\"}},\"type\":\"scatter\"}],\"scatter3d\":[{\"line\":{\"colorbar\":{\"outlinewidth\":0,\"ticks\":\"\"}},\"marker\":{\"colorbar\":{\"outlinewidth\":0,\"ticks\":\"\"}},\"type\":\"scatter3d\"}],\"scattercarpet\":[{\"marker\":{\"colorbar\":{\"outlinewidth\":0,\"ticks\":\"\"}},\"type\":\"scattercarpet\"}],\"scattergeo\":[{\"marker\":{\"colorbar\":{\"outlinewidth\":0,\"ticks\":\"\"}},\"type\":\"scattergeo\"}],\"scattergl\":[{\"marker\":{\"colorbar\":{\"outlinewidth\":0,\"ticks\":\"\"}},\"type\":\"scattergl\"}],\"scattermapbox\":[{\"marker\":{\"colorbar\":{\"outlinewidth\":0,\"ticks\":\"\"}},\"type\":\"scattermapbox\"}],\"scatterpolar\":[{\"marker\":{\"colorbar\":{\"outlinewidth\":0,\"ticks\":\"\"}},\"type\":\"scatterpolar\"}],\"scatterpolargl\":[{\"marker\":{\"colorbar\":{\"outlinewidth\":0,\"ticks\":\"\"}},\"type\":\"scatterpolargl\"}],\"scatterternary\":[{\"marker\":{\"colorbar\":{\"outlinewidth\":0,\"ticks\":\"\"}},\"type\":\"scatterternary\"}],\"surface\":[{\"colorbar\":{\"outlinewidth\":0,\"ticks\":\"\"},\"colorscale\":[[0.0,\"#0d0887\"],[0.1111111111111111,\"#46039f\"],[0.2222222222222222,\"#7201a8\"],[0.3333333333333333,\"#9c179e\"],[0.4444444444444444,\"#bd3786\"],[0.5555555555555556,\"#d8576b\"],[0.6666666666666666,\"#ed7953\"],[0.7777777777777778,\"#fb9f3a\"],[0.8888888888888888,\"#fdca26\"],[1.0,\"#f0f921\"]],\"type\":\"surface\"}],\"table\":[{\"cells\":{\"fill\":{\"color\":\"#EBF0F8\"},\"line\":{\"color\":\"white\"}},\"header\":{\"fill\":{\"color\":\"#C8D4E3\"},\"line\":{\"color\":\"white\"}},\"type\":\"table\"}]},\"layout\":{\"annotationdefaults\":{\"arrowcolor\":\"#2a3f5f\",\"arrowhead\":0,\"arrowwidth\":1},\"autotypenumbers\":\"strict\",\"coloraxis\":{\"colorbar\":{\"outlinewidth\":0,\"ticks\":\"\"}},\"colorscale\":{\"diverging\":[[0,\"#8e0152\"],[0.1,\"#c51b7d\"],[0.2,\"#de77ae\"],[0.3,\"#f1b6da\"],[0.4,\"#fde0ef\"],[0.5,\"#f7f7f7\"],[0.6,\"#e6f5d0\"],[0.7,\"#b8e186\"],[0.8,\"#7fbc41\"],[0.9,\"#4d9221\"],[1,\"#276419\"]],\"sequential\":[[0.0,\"#0d0887\"],[0.1111111111111111,\"#46039f\"],[0.2222222222222222,\"#7201a8\"],[0.3333333333333333,\"#9c179e\"],[0.4444444444444444,\"#bd3786\"],[0.5555555555555556,\"#d8576b\"],[0.6666666666666666,\"#ed7953\"],[0.7777777777777778,\"#fb9f3a\"],[0.8888888888888888,\"#fdca26\"],[1.0,\"#f0f921\"]],\"sequentialminus\":[[0.0,\"#0d0887\"],[0.1111111111111111,\"#46039f\"],[0.2222222222222222,\"#7201a8\"],[0.3333333333333333,\"#9c179e\"],[0.4444444444444444,\"#bd3786\"],[0.5555555555555556,\"#d8576b\"],[0.6666666666666666,\"#ed7953\"],[0.7777777777777778,\"#fb9f3a\"],[0.8888888888888888,\"#fdca26\"],[1.0,\"#f0f921\"]]},\"colorway\":[\"#636efa\",\"#EF553B\",\"#00cc96\",\"#ab63fa\",\"#FFA15A\",\"#19d3f3\",\"#FF6692\",\"#B6E880\",\"#FF97FF\",\"#FECB52\"],\"font\":{\"color\":\"#2a3f5f\"},\"geo\":{\"bgcolor\":\"white\",\"lakecolor\":\"white\",\"landcolor\":\"#E5ECF6\",\"showlakes\":true,\"showland\":true,\"subunitcolor\":\"white\"},\"hoverlabel\":{\"align\":\"left\"},\"hovermode\":\"closest\",\"mapbox\":{\"style\":\"light\"},\"paper_bgcolor\":\"white\",\"plot_bgcolor\":\"#E5ECF6\",\"polar\":{\"angularaxis\":{\"gridcolor\":\"white\",\"linecolor\":\"white\",\"ticks\":\"\"},\"bgcolor\":\"#E5ECF6\",\"radialaxis\":{\"gridcolor\":\"white\",\"linecolor\":\"white\",\"ticks\":\"\"}},\"scene\":{\"xaxis\":{\"backgroundcolor\":\"#E5ECF6\",\"gridcolor\":\"white\",\"gridwidth\":2,\"linecolor\":\"white\",\"showbackground\":true,\"ticks\":\"\",\"zerolinecolor\":\"white\"},\"yaxis\":{\"backgroundcolor\":\"#E5ECF6\",\"gridcolor\":\"white\",\"gridwidth\":2,\"linecolor\":\"white\",\"showbackground\":true,\"ticks\":\"\",\"zerolinecolor\":\"white\"},\"zaxis\":{\"backgroundcolor\":\"#E5ECF6\",\"gridcolor\":\"white\",\"gridwidth\":2,\"linecolor\":\"white\",\"showbackground\":true,\"ticks\":\"\",\"zerolinecolor\":\"white\"}},\"shapedefaults\":{\"line\":{\"color\":\"#2a3f5f\"}},\"ternary\":{\"aaxis\":{\"gridcolor\":\"white\",\"linecolor\":\"white\",\"ticks\":\"\"},\"baxis\":{\"gridcolor\":\"white\",\"linecolor\":\"white\",\"ticks\":\"\"},\"bgcolor\":\"#E5ECF6\",\"caxis\":{\"gridcolor\":\"white\",\"linecolor\":\"white\",\"ticks\":\"\"}},\"title\":{\"x\":0.05},\"xaxis\":{\"automargin\":true,\"gridcolor\":\"white\",\"linecolor\":\"white\",\"ticks\":\"\",\"title\":{\"standoff\":15},\"zerolinecolor\":\"white\",\"zerolinewidth\":2},\"yaxis\":{\"automargin\":true,\"gridcolor\":\"white\",\"linecolor\":\"white\",\"ticks\":\"\",\"title\":{\"standoff\":15},\"zerolinecolor\":\"white\",\"zerolinewidth\":2}}},\"xaxis\":{\"anchor\":\"y\",\"domain\":[0.0,1.0],\"scaleanchor\":\"y\",\"constrain\":\"domain\"},\"yaxis\":{\"anchor\":\"x\",\"domain\":[0.0,1.0],\"autorange\":\"reversed\",\"constrain\":\"domain\"},\"coloraxis\":{\"colorscale\":[[0.0,\"#0d0887\"],[0.1111111111111111,\"#46039f\"],[0.2222222222222222,\"#7201a8\"],[0.3333333333333333,\"#9c179e\"],[0.4444444444444444,\"#bd3786\"],[0.5555555555555556,\"#d8576b\"],[0.6666666666666666,\"#ed7953\"],[0.7777777777777778,\"#fb9f3a\"],[0.8888888888888888,\"#fdca26\"],[1.0,\"#f0f921\"]]},\"margin\":{\"t\":60}},                        {\"responsive\": true}                    ).then(function(){\n",
       "                            \n",
       "var gd = document.getElementById('7777f896-a565-4568-a731-953e855ecb60');\n",
       "var x = new MutationObserver(function (mutations, observer) {{\n",
       "        var display = window.getComputedStyle(gd).display;\n",
       "        if (!display || display === 'none') {{\n",
       "            console.log([gd, 'removed!']);\n",
       "            Plotly.purge(gd);\n",
       "            observer.disconnect();\n",
       "        }}\n",
       "}});\n",
       "\n",
       "// Listen for the removal of the full notebook cells\n",
       "var notebookContainer = gd.closest('#notebook-container');\n",
       "if (notebookContainer) {{\n",
       "    x.observe(notebookContainer, {childList: true});\n",
       "}}\n",
       "\n",
       "// Listen for the clearing of the current output cell\n",
       "var outputEl = gd.closest('.output');\n",
       "if (outputEl) {{\n",
       "    x.observe(outputEl, {childList: true});\n",
       "}}\n",
       "\n",
       "                        })                };                });            </script>        </div>"
      ]
     },
     "metadata": {},
     "output_type": "display_data"
    }
   ],
   "source": [
    "correlation_matrix = df.corr()\n",
    "fig = px.imshow(correlation_matrix,text_auto = True)\n",
    "fig.show()"
   ]
  },
  {
   "cell_type": "code",
   "execution_count": 47,
   "id": "3488c297",
   "metadata": {},
   "outputs": [
    {
     "data": {
      "application/vnd.plotly.v1+json": {
       "config": {
        "plotlyServerURL": "https://plot.ly"
       },
       "data": [
        {
         "hovertemplate": "x=%{x}<br>y=%{y}<extra></extra>",
         "legendgroup": "",
         "marker": {
          "color": "#636efa",
          "symbol": "circle"
         },
         "mode": "markers",
         "name": "",
         "orientation": "v",
         "showlegend": false,
         "type": "scatter",
         "x": [
          3.77,
          6.81,
          3.79,
          3.28,
          10.22,
          4.22,
          6.5,
          2.93,
          4.7,
          0.28,
          1.93,
          4.13,
          7.2,
          3.6,
          2.53,
          3.54,
          4.16,
          6.04,
          4.18,
          3.84,
          5.38,
          5.65,
          5.32,
          3.12,
          4.34,
          2.66,
          5.33,
          2.67,
          3.96,
          1.91,
          1.2,
          3.08,
          2.69,
          2.13,
          2.12,
          3.15,
          1.25,
          2.23,
          2.47,
          3,
          4.36,
          1.98,
          3.81,
          2.49,
          1.58,
          3.14,
          0.13,
          2.69,
          0.98,
          1.45,
          0.7,
          2.42,
          0.6,
          1.39,
          1.27,
          0.87,
          1.6,
          1.03,
          1.69,
          2.06,
          1.29,
          0.87,
          4.35,
          1.81,
          1.97,
          0.91,
          0.99,
          0.95,
          0.94,
          2,
          1.01,
          1.09,
          1.03,
          0.83,
          1.27,
          1.57,
          0.95,
          2.2,
          1.89,
          1.7,
          0.15,
          0.8,
          0.29,
          1.54,
          0.89,
          1.52,
          1.32,
          1.15,
          0.89,
          1.1,
          1.44,
          0.46,
          1.61,
          0.72,
          0.62,
          1.57,
          1.76,
          0.37,
          0.64,
          2.46,
          0.92,
          1.07,
          2.62,
          1.05,
          0.54,
          0.81,
          0.41,
          0.73,
          0.59,
          1.38,
          3.67,
          0.55,
          0.66,
          0.46,
          1.75,
          1.42,
          0.73,
          0.59,
          0.74,
          0.73,
          0.82,
          2.32,
          0.76,
          0.46,
          3.18,
          2.35,
          0.12,
          0.93,
          1.93,
          0.99,
          0.14,
          1.03,
          0.46,
          0.55,
          0.45,
          0.8,
          1.39,
          1.19,
          0.34,
          0.73,
          0.62,
          0.89,
          0.98,
          0.1,
          1.1,
          0.68,
          1.96,
          0.71,
          1.13,
          1.04,
          0.33,
          0.87,
          0.35,
          2.65,
          0.12,
          0.24,
          0.96,
          0.92,
          0.33,
          0.7,
          0.16,
          1.08,
          0.92,
          0.78,
          1.42,
          1.48,
          0.4,
          0.47,
          1.06,
          1.21,
          0.62,
          1.63,
          0.64,
          0.91,
          0.54,
          0.46,
          1.05,
          0.18,
          0.45,
          0.34,
          1.1,
          0.3,
          0.73,
          0.47,
          0.08,
          1.56,
          1.98,
          1.45,
          2.13,
          0.19,
          1.35,
          0.45,
          0.92,
          0.63,
          0.73,
          0.74,
          0.46,
          0.83,
          0.29,
          0.13,
          0.53,
          1.29,
          0.9,
          0.75,
          0.41,
          1.53,
          1.05,
          0.55,
          0.2,
          0.29,
          0.41,
          1.01,
          1.33,
          0.3,
          0.4,
          0.41,
          0.55,
          0.83,
          0.93,
          0.79,
          0.07,
          1.35,
          0.36,
          0.14,
          0.84,
          1.03,
          0.56,
          0.4,
          1.09,
          0.91,
          0.8,
          0,
          1.71,
          0,
          0.79,
          0.82,
          0.17,
          0.6,
          0.15,
          0.76,
          0.56,
          0.49,
          0.45,
          0.3,
          0.65,
          0.2,
          0.04,
          0.44,
          0.46,
          0.81,
          0.44,
          0.24,
          0.52,
          0.25,
          0.15,
          1.52,
          0.92,
          0.36,
          0.25,
          0.28,
          0.65,
          0.39,
          0.65,
          0.25,
          0.07,
          1.45,
          1.09,
          1.39,
          0.22,
          0.71,
          1.18,
          0.13,
          0.59,
          0.49,
          1.37,
          0.28,
          0.43,
          0.24,
          0.07,
          0.58,
          0.4,
          0.11,
          0,
          1.28,
          0.36,
          0.47,
          0.41,
          0.13,
          0.31,
          0,
          0.43,
          0.75,
          0.12,
          0.7,
          0.46,
          0.12,
          0.08,
          0.27,
          0.56,
          0.36,
          0.36,
          0.42,
          0.19,
          0.04,
          0.29,
          0.33,
          0.44,
          0.15,
          0.21,
          0.07,
          0.41,
          0.46,
          0.35,
          0.48,
          0.15,
          0.37,
          0.84,
          0,
          0.3,
          0.63,
          0.7,
          0.29,
          0.17,
          0.29,
          0.45,
          0.31,
          0.09,
          0.13,
          0.19,
          0.21,
          0.37,
          0.45,
          0.37,
          0.41,
          0.1,
          0.19,
          0.47,
          0.09,
          0.16,
          0.28,
          0.21,
          0.29,
          0.13,
          0.18,
          0.13,
          0.33,
          0.08,
          0.43,
          0.53,
          0,
          0.24,
          0.3,
          0.89,
          0.21,
          0.12,
          0.2,
          0.44,
          0.13,
          0.14,
          0,
          0.28,
          0,
          0,
          0.81,
          0.13,
          0.8,
          0,
          0.17,
          0.27,
          0.25,
          0.11,
          0.12,
          0.38,
          0.14,
          0.74,
          0.25,
          0.3,
          0.17,
          0.73,
          0.32,
          0.73,
          0.73,
          0.53,
          0.22,
          0.71,
          0.17,
          0.44,
          0,
          0.17,
          0.7,
          0,
          0.02,
          0.33,
          0.18,
          0.34,
          0,
          0.33,
          0.19,
          0.12,
          0.3,
          0,
          0.27,
          0,
          0.11,
          0,
          0.62,
          0.61,
          0.14,
          0.22,
          0,
          0.33,
          0.09,
          0.2,
          0.14,
          0.31,
          0.59,
          0.58,
          0.01,
          0.02,
          0.57,
          0.24,
          0.13,
          0.22,
          0.12,
          0.56,
          0.56,
          0.55,
          0.08,
          0.38,
          0.16,
          0.1,
          0.48,
          0.12,
          0.16,
          0,
          0.19,
          0,
          0.52,
          0.51,
          0.17,
          0.51,
          0.3,
          0.31,
          0.17,
          0.49,
          0.16,
          0.05,
          0.29,
          0.17,
          0.07,
          0.18,
          0.46,
          0.08,
          0,
          0.12,
          0.21,
          0.24,
          0.45,
          0.34,
          0.32,
          0,
          0.13,
          0,
          0.43,
          0.06,
          0,
          0,
          0.26,
          0.07,
          0.07,
          0.41,
          0,
          0.03,
          0.09,
          0.11,
          0.25,
          0.08,
          0.41,
          0.26,
          0.04,
          0.07,
          0,
          0.39,
          0.04,
          0.39,
          0,
          0,
          0,
          0.34,
          0.09,
          0.38,
          0.38,
          0,
          0.07,
          0,
          0,
          0.02,
          0,
          0.36,
          0,
          0.03,
          0.35,
          0.08,
          0.23,
          0.07,
          0.35,
          0.09,
          0.2,
          0.08,
          0.16,
          0.09,
          0.16,
          0.32,
          0.31,
          0.26,
          0.3,
          0.3,
          0.01,
          0.08,
          0.3,
          0.3,
          0.08,
          0.12,
          0.05,
          0.02,
          0,
          0.29,
          0.29,
          0.17,
          0.28,
          0.28,
          0.28,
          0,
          0.27,
          0.28,
          0,
          0.27,
          0,
          0,
          0.27,
          0.26,
          0,
          0.27,
          0.26,
          0.25,
          0.26,
          0.11,
          0.11,
          0.26,
          0.1,
          0.02,
          0,
          0.24,
          0,
          0.1,
          0.12,
          0,
          0.23,
          0.06,
          0.11,
          0,
          0.23,
          0.06,
          0.09,
          0.23,
          0.13,
          0.07,
          0.23,
          0.23,
          0,
          0.22,
          0.06,
          0,
          0.06,
          0.22,
          0.01,
          0,
          0,
          0.07,
          0.21,
          0.2,
          0.05,
          0,
          0,
          0.19,
          0,
          0.19,
          0.19,
          0.19,
          0,
          0.18,
          0,
          0.18,
          0,
          0,
          0.12,
          0.17,
          0.17,
          0.17,
          0.15,
          0.04,
          0.16,
          0,
          0,
          0.16,
          0.15,
          0,
          0.14,
          0.14,
          0.05,
          0.03,
          0.03,
          0.13,
          0.13,
          0,
          0.12,
          0.12,
          0.11,
          0.08,
          0.11,
          0.11,
          0.02,
          0.11,
          0.11,
          0.11,
          0.11,
          0,
          0.11,
          0.1,
          0.1,
          0.1,
          0.1,
          0.1,
          0.1,
          0.09,
          0,
          0.09,
          0,
          0.08,
          0.07,
          0,
          0.09,
          0.09,
          0.09,
          0.08,
          0.08,
          0.08,
          0.08,
          0.08,
          0.04,
          0.07,
          0,
          0.07,
          0.07,
          0.07,
          0.07,
          0.07,
          0,
          0.07,
          0.03,
          0.06,
          0.06,
          0.06,
          0,
          0.06,
          0.06,
          0.05,
          0.05,
          0.05,
          0.05,
          0,
          0.05,
          0.05,
          0.04,
          0.04,
          0.04,
          0.04,
          0.04,
          0.04,
          0.04,
          0.02,
          0.03,
          0.01,
          0.03,
          0.03,
          0.03,
          0,
          0,
          0.02,
          0,
          0,
          0.01,
          0.01,
          0.01,
          0.01,
          0.01
         ],
         "xaxis": "x",
         "y": [
          8.46,
          0.77,
          3.31,
          2.96,
          1,
          0.58,
          2.9,
          2.85,
          2.26,
          0.47,
          2.75,
          1.92,
          0.71,
          2.15,
          1.79,
          0.55,
          2.05,
          1.37,
          0.42,
          0.46,
          0.5,
          0.82,
          1.18,
          0.59,
          0.79,
          1.02,
          0.88,
          0.89,
          0.77,
          0.23,
          0.76,
          0.65,
          0.29,
          0.78,
          0.29,
          0.35,
          0.98,
          0.15,
          0.63,
          0.23,
          0.41,
          0.7,
          0.18,
          0.68,
          0.73,
          0.43,
          0.15,
          0.55,
          0.64,
          0.16,
          0.19,
          0.43,
          0.7,
          0.22,
          0.49,
          0.19,
          0.62,
          0.47,
          0.14,
          0.21,
          0.99,
          0.17,
          0.15,
          0.11,
          0.04,
          0.2,
          0.23,
          0.2,
          0.09,
          0.2,
          0.16,
          0.06,
          0.52,
          0.2,
          0.31,
          0.15,
          0.49,
          0.11,
          0.28,
          0.11,
          0.22,
          0.57,
          0.46,
          0.37,
          0.1,
          0.1,
          0.37,
          0.13,
          0.13,
          0.3,
          0.43,
          0.33,
          0.08,
          0.3,
          0.3,
          0.07,
          0.09,
          0.4,
          0.04,
          0.04,
          0.37,
          0.11,
          0.11,
          0.35,
          0.13,
          0.27,
          0.43,
          0.27,
          0.32,
          0.1,
          0,
          0.1,
          0.06,
          0.1,
          0.08,
          0.06,
          0.35,
          0.4,
          0.27,
          0.06,
          0.28,
          0.02,
          0.24,
          0.32,
          0,
          0.02,
          0.1,
          0.2,
          0.14,
          0.09,
          0.04,
          0.17,
          0.22,
          0.34,
          0.07,
          0.07,
          0.12,
          0.15,
          0.04,
          0.26,
          0.09,
          0.07,
          0.05,
          0.09,
          0.15,
          0.34,
          0.07,
          0.07,
          0.23,
          0.05,
          0.1,
          0.05,
          0.18,
          0,
          0.03,
          0.25,
          0.19,
          0.14,
          0.28,
          0.07,
          0.06,
          0.01,
          0.07,
          0.05,
          0.03,
          0.05,
          0.08,
          0.17,
          0.07,
          0.13,
          0.18,
          0.02,
          0.12,
          0.04,
          0.09,
          0.06,
          0.11,
          0.16,
          0.13,
          0.23,
          0.05,
          0.13,
          0.12,
          0.06,
          0.03,
          0.02,
          0,
          0.03,
          0,
          0.1,
          0.08,
          0.11,
          0.04,
          0.13,
          0.06,
          0.08,
          0.13,
          0,
          0.07,
          0.05,
          0.13,
          0.03,
          0.04,
          0.04,
          0.05,
          0.02,
          0.08,
          0.05,
          0.07,
          0.12,
          0.06,
          0.02,
          0.04,
          0.09,
          0.12,
          0.06,
          0.11,
          0.03,
          0,
          0.09,
          0.09,
          0.03,
          0.14,
          0.13,
          0.08,
          0.04,
          0.04,
          0.06,
          0.02,
          0.01,
          0.02,
          0.01,
          0,
          0.09,
          0.08,
          0.03,
          0.06,
          0.05,
          0.05,
          0.03,
          0.04,
          0.1,
          0.04,
          0.13,
          0.03,
          0.04,
          0.04,
          0.12,
          0.04,
          0.02,
          0.05,
          0.11,
          0.1,
          0.04,
          0.12,
          0,
          0.02,
          0.04,
          0.06,
          0.14,
          0.05,
          0.04,
          0.02,
          0.04,
          0.12,
          0,
          0.02,
          0.03,
          0.1,
          0.02,
          0.03,
          0.1,
          0.02,
          0.07,
          0,
          0.09,
          0.08,
          0.04,
          0.04,
          0.06,
          0.03,
          0.1,
          0.12,
          0,
          0.07,
          0.06,
          0.02,
          0.1,
          0.03,
          0.1,
          0.03,
          0.02,
          0.04,
          0.02,
          0.03,
          0.04,
          0.04,
          0.07,
          0.03,
          0.04,
          0.07,
          0.06,
          0.09,
          0.01,
          0.02,
          0.08,
          0.06,
          0.11,
          0.02,
          0.02,
          0.03,
          0.03,
          0.07,
          0.02,
          0.04,
          0.06,
          0.01,
          0.02,
          0.02,
          0.02,
          0.01,
          0.06,
          0.08,
          0.03,
          0.02,
          0.04,
          0.09,
          0.08,
          0.03,
          0.07,
          0.04,
          0.03,
          0.12,
          0.05,
          0.3,
          0.01,
          0.02,
          0.03,
          0.08,
          0.02,
          0.02,
          0.01,
          0.07,
          0.09,
          0.07,
          0.05,
          0.08,
          0.01,
          0.03,
          0.06,
          0.02,
          0.02,
          0,
          0.06,
          0.07,
          0.05,
          0.04,
          0.05,
          0.06,
          0.01,
          0.02,
          0.01,
          0.02,
          0,
          0.06,
          0,
          0.01,
          0.07,
          0.05,
          0.06,
          0.06,
          0.07,
          0.04,
          0.01,
          0,
          0.04,
          0.02,
          0.01,
          0,
          0.04,
          0,
          0,
          0.01,
          0.04,
          0,
          0.06,
          0.02,
          0.01,
          0.01,
          0,
          0.01,
          0.04,
          0.02,
          0.04,
          0.02,
          0.02,
          0.03,
          0.04,
          0.02,
          0.01,
          0.01,
          0.03,
          0.01,
          0.06,
          0.14,
          0,
          0,
          0.05,
          0.01,
          0.01,
          0.02,
          0.02,
          0.04,
          0.01,
          0.02,
          0,
          0,
          0.06,
          0.05,
          0,
          0.03,
          0.01,
          0.03,
          0.04,
          0,
          0,
          0,
          0.04,
          0.02,
          0.01,
          0.04,
          0,
          0.04,
          0.03,
          0,
          0.01,
          0.04,
          0,
          0,
          0.03,
          0,
          0.02,
          0.01,
          0.02,
          0,
          0.03,
          0.03,
          0.02,
          0.03,
          0.02,
          0.03,
          0.01,
          0.05,
          0.01,
          0.01,
          0.02,
          0.01,
          0.01,
          0.01,
          0.01,
          0.01,
          0.03,
          0.01,
          0.01,
          0.04,
          0.01,
          0.01,
          0.01,
          0.01,
          0.06,
          0.01,
          0,
          0.04,
          0.03,
          0.03,
          0.04,
          0.03,
          0,
          0.01,
          0.03,
          0.01,
          0,
          0.01,
          0.03,
          0,
          0.01,
          0.03,
          0.03,
          0.05,
          0.01,
          0,
          0,
          0.03,
          0.01,
          0.01,
          0.01,
          0.03,
          0.01,
          0,
          0,
          0.03,
          0,
          0.02,
          0.01,
          0.03,
          0,
          0.02,
          0.01,
          0.03,
          0.01,
          0.01,
          0.01,
          0,
          0,
          0.05,
          0.01,
          0,
          0.03,
          0.02,
          0.01,
          0,
          0.01,
          0.01,
          0,
          0,
          0,
          0,
          0,
          0.01,
          0.01,
          0,
          0,
          0.02,
          0.01,
          0,
          0.02,
          0,
          0.01,
          0,
          0,
          0.01,
          0.02,
          0,
          0,
          0,
          0.01,
          0.01,
          0.01,
          0,
          0.01,
          0.02,
          0,
          0,
          0.01,
          0.01,
          0.01,
          0,
          0.01,
          0.02,
          0.01,
          0.02,
          0,
          0.01,
          0.02,
          0,
          0.01,
          0.01,
          0,
          0,
          0,
          0,
          0.01,
          0,
          0.01,
          0,
          0.02,
          0.02,
          0.02,
          0.01,
          0,
          0,
          0.01,
          0.02,
          0.01,
          0,
          0.01,
          0,
          0,
          0,
          0,
          0,
          0,
          0,
          0.01,
          0,
          0,
          0,
          0,
          0,
          0,
          0.01,
          0,
          0,
          0,
          0,
          0,
          0,
          0,
          0,
          0.01,
          0.01,
          0.01,
          0,
          0,
          0,
          0,
          0,
          0,
          0,
          0,
          0,
          0,
          0,
          0,
          0,
          0,
          0,
          0,
          0,
          0,
          0,
          0,
          0,
          0,
          0,
          0.01,
          0,
          0.01,
          0,
          0,
          0.01,
          0,
          0,
          0,
          0,
          0,
          0,
          0,
          0,
          0,
          0,
          0,
          0,
          0,
          0,
          0,
          0,
          0.01,
          0,
          0,
          0,
          0,
          0,
          0.01,
          0,
          0,
          0,
          0,
          0,
          0,
          0,
          0,
          0,
          0,
          0,
          0,
          0,
          0,
          0,
          0,
          0,
          0,
          0,
          0,
          0,
          0,
          0,
          0,
          0,
          0,
          0,
          0,
          0,
          0,
          0,
          0
         ],
         "yaxis": "y"
        }
       ],
       "layout": {
        "legend": {
         "tracegroupgap": 0
        },
        "margin": {
         "t": 60
        },
        "template": {
         "data": {
          "bar": [
           {
            "error_x": {
             "color": "#2a3f5f"
            },
            "error_y": {
             "color": "#2a3f5f"
            },
            "marker": {
             "line": {
              "color": "#E5ECF6",
              "width": 0.5
             },
             "pattern": {
              "fillmode": "overlay",
              "size": 10,
              "solidity": 0.2
             }
            },
            "type": "bar"
           }
          ],
          "barpolar": [
           {
            "marker": {
             "line": {
              "color": "#E5ECF6",
              "width": 0.5
             },
             "pattern": {
              "fillmode": "overlay",
              "size": 10,
              "solidity": 0.2
             }
            },
            "type": "barpolar"
           }
          ],
          "carpet": [
           {
            "aaxis": {
             "endlinecolor": "#2a3f5f",
             "gridcolor": "white",
             "linecolor": "white",
             "minorgridcolor": "white",
             "startlinecolor": "#2a3f5f"
            },
            "baxis": {
             "endlinecolor": "#2a3f5f",
             "gridcolor": "white",
             "linecolor": "white",
             "minorgridcolor": "white",
             "startlinecolor": "#2a3f5f"
            },
            "type": "carpet"
           }
          ],
          "choropleth": [
           {
            "colorbar": {
             "outlinewidth": 0,
             "ticks": ""
            },
            "type": "choropleth"
           }
          ],
          "contour": [
           {
            "colorbar": {
             "outlinewidth": 0,
             "ticks": ""
            },
            "colorscale": [
             [
              0,
              "#0d0887"
             ],
             [
              0.1111111111111111,
              "#46039f"
             ],
             [
              0.2222222222222222,
              "#7201a8"
             ],
             [
              0.3333333333333333,
              "#9c179e"
             ],
             [
              0.4444444444444444,
              "#bd3786"
             ],
             [
              0.5555555555555556,
              "#d8576b"
             ],
             [
              0.6666666666666666,
              "#ed7953"
             ],
             [
              0.7777777777777778,
              "#fb9f3a"
             ],
             [
              0.8888888888888888,
              "#fdca26"
             ],
             [
              1,
              "#f0f921"
             ]
            ],
            "type": "contour"
           }
          ],
          "contourcarpet": [
           {
            "colorbar": {
             "outlinewidth": 0,
             "ticks": ""
            },
            "type": "contourcarpet"
           }
          ],
          "heatmap": [
           {
            "colorbar": {
             "outlinewidth": 0,
             "ticks": ""
            },
            "colorscale": [
             [
              0,
              "#0d0887"
             ],
             [
              0.1111111111111111,
              "#46039f"
             ],
             [
              0.2222222222222222,
              "#7201a8"
             ],
             [
              0.3333333333333333,
              "#9c179e"
             ],
             [
              0.4444444444444444,
              "#bd3786"
             ],
             [
              0.5555555555555556,
              "#d8576b"
             ],
             [
              0.6666666666666666,
              "#ed7953"
             ],
             [
              0.7777777777777778,
              "#fb9f3a"
             ],
             [
              0.8888888888888888,
              "#fdca26"
             ],
             [
              1,
              "#f0f921"
             ]
            ],
            "type": "heatmap"
           }
          ],
          "heatmapgl": [
           {
            "colorbar": {
             "outlinewidth": 0,
             "ticks": ""
            },
            "colorscale": [
             [
              0,
              "#0d0887"
             ],
             [
              0.1111111111111111,
              "#46039f"
             ],
             [
              0.2222222222222222,
              "#7201a8"
             ],
             [
              0.3333333333333333,
              "#9c179e"
             ],
             [
              0.4444444444444444,
              "#bd3786"
             ],
             [
              0.5555555555555556,
              "#d8576b"
             ],
             [
              0.6666666666666666,
              "#ed7953"
             ],
             [
              0.7777777777777778,
              "#fb9f3a"
             ],
             [
              0.8888888888888888,
              "#fdca26"
             ],
             [
              1,
              "#f0f921"
             ]
            ],
            "type": "heatmapgl"
           }
          ],
          "histogram": [
           {
            "marker": {
             "pattern": {
              "fillmode": "overlay",
              "size": 10,
              "solidity": 0.2
             }
            },
            "type": "histogram"
           }
          ],
          "histogram2d": [
           {
            "colorbar": {
             "outlinewidth": 0,
             "ticks": ""
            },
            "colorscale": [
             [
              0,
              "#0d0887"
             ],
             [
              0.1111111111111111,
              "#46039f"
             ],
             [
              0.2222222222222222,
              "#7201a8"
             ],
             [
              0.3333333333333333,
              "#9c179e"
             ],
             [
              0.4444444444444444,
              "#bd3786"
             ],
             [
              0.5555555555555556,
              "#d8576b"
             ],
             [
              0.6666666666666666,
              "#ed7953"
             ],
             [
              0.7777777777777778,
              "#fb9f3a"
             ],
             [
              0.8888888888888888,
              "#fdca26"
             ],
             [
              1,
              "#f0f921"
             ]
            ],
            "type": "histogram2d"
           }
          ],
          "histogram2dcontour": [
           {
            "colorbar": {
             "outlinewidth": 0,
             "ticks": ""
            },
            "colorscale": [
             [
              0,
              "#0d0887"
             ],
             [
              0.1111111111111111,
              "#46039f"
             ],
             [
              0.2222222222222222,
              "#7201a8"
             ],
             [
              0.3333333333333333,
              "#9c179e"
             ],
             [
              0.4444444444444444,
              "#bd3786"
             ],
             [
              0.5555555555555556,
              "#d8576b"
             ],
             [
              0.6666666666666666,
              "#ed7953"
             ],
             [
              0.7777777777777778,
              "#fb9f3a"
             ],
             [
              0.8888888888888888,
              "#fdca26"
             ],
             [
              1,
              "#f0f921"
             ]
            ],
            "type": "histogram2dcontour"
           }
          ],
          "mesh3d": [
           {
            "colorbar": {
             "outlinewidth": 0,
             "ticks": ""
            },
            "type": "mesh3d"
           }
          ],
          "parcoords": [
           {
            "line": {
             "colorbar": {
              "outlinewidth": 0,
              "ticks": ""
             }
            },
            "type": "parcoords"
           }
          ],
          "pie": [
           {
            "automargin": true,
            "type": "pie"
           }
          ],
          "scatter": [
           {
            "marker": {
             "colorbar": {
              "outlinewidth": 0,
              "ticks": ""
             }
            },
            "type": "scatter"
           }
          ],
          "scatter3d": [
           {
            "line": {
             "colorbar": {
              "outlinewidth": 0,
              "ticks": ""
             }
            },
            "marker": {
             "colorbar": {
              "outlinewidth": 0,
              "ticks": ""
             }
            },
            "type": "scatter3d"
           }
          ],
          "scattercarpet": [
           {
            "marker": {
             "colorbar": {
              "outlinewidth": 0,
              "ticks": ""
             }
            },
            "type": "scattercarpet"
           }
          ],
          "scattergeo": [
           {
            "marker": {
             "colorbar": {
              "outlinewidth": 0,
              "ticks": ""
             }
            },
            "type": "scattergeo"
           }
          ],
          "scattergl": [
           {
            "marker": {
             "colorbar": {
              "outlinewidth": 0,
              "ticks": ""
             }
            },
            "type": "scattergl"
           }
          ],
          "scattermapbox": [
           {
            "marker": {
             "colorbar": {
              "outlinewidth": 0,
              "ticks": ""
             }
            },
            "type": "scattermapbox"
           }
          ],
          "scatterpolar": [
           {
            "marker": {
             "colorbar": {
              "outlinewidth": 0,
              "ticks": ""
             }
            },
            "type": "scatterpolar"
           }
          ],
          "scatterpolargl": [
           {
            "marker": {
             "colorbar": {
              "outlinewidth": 0,
              "ticks": ""
             }
            },
            "type": "scatterpolargl"
           }
          ],
          "scatterternary": [
           {
            "marker": {
             "colorbar": {
              "outlinewidth": 0,
              "ticks": ""
             }
            },
            "type": "scatterternary"
           }
          ],
          "surface": [
           {
            "colorbar": {
             "outlinewidth": 0,
             "ticks": ""
            },
            "colorscale": [
             [
              0,
              "#0d0887"
             ],
             [
              0.1111111111111111,
              "#46039f"
             ],
             [
              0.2222222222222222,
              "#7201a8"
             ],
             [
              0.3333333333333333,
              "#9c179e"
             ],
             [
              0.4444444444444444,
              "#bd3786"
             ],
             [
              0.5555555555555556,
              "#d8576b"
             ],
             [
              0.6666666666666666,
              "#ed7953"
             ],
             [
              0.7777777777777778,
              "#fb9f3a"
             ],
             [
              0.8888888888888888,
              "#fdca26"
             ],
             [
              1,
              "#f0f921"
             ]
            ],
            "type": "surface"
           }
          ],
          "table": [
           {
            "cells": {
             "fill": {
              "color": "#EBF0F8"
             },
             "line": {
              "color": "white"
             }
            },
            "header": {
             "fill": {
              "color": "#C8D4E3"
             },
             "line": {
              "color": "white"
             }
            },
            "type": "table"
           }
          ]
         },
         "layout": {
          "annotationdefaults": {
           "arrowcolor": "#2a3f5f",
           "arrowhead": 0,
           "arrowwidth": 1
          },
          "autotypenumbers": "strict",
          "coloraxis": {
           "colorbar": {
            "outlinewidth": 0,
            "ticks": ""
           }
          },
          "colorscale": {
           "diverging": [
            [
             0,
             "#8e0152"
            ],
            [
             0.1,
             "#c51b7d"
            ],
            [
             0.2,
             "#de77ae"
            ],
            [
             0.3,
             "#f1b6da"
            ],
            [
             0.4,
             "#fde0ef"
            ],
            [
             0.5,
             "#f7f7f7"
            ],
            [
             0.6,
             "#e6f5d0"
            ],
            [
             0.7,
             "#b8e186"
            ],
            [
             0.8,
             "#7fbc41"
            ],
            [
             0.9,
             "#4d9221"
            ],
            [
             1,
             "#276419"
            ]
           ],
           "sequential": [
            [
             0,
             "#0d0887"
            ],
            [
             0.1111111111111111,
             "#46039f"
            ],
            [
             0.2222222222222222,
             "#7201a8"
            ],
            [
             0.3333333333333333,
             "#9c179e"
            ],
            [
             0.4444444444444444,
             "#bd3786"
            ],
            [
             0.5555555555555556,
             "#d8576b"
            ],
            [
             0.6666666666666666,
             "#ed7953"
            ],
            [
             0.7777777777777778,
             "#fb9f3a"
            ],
            [
             0.8888888888888888,
             "#fdca26"
            ],
            [
             1,
             "#f0f921"
            ]
           ],
           "sequentialminus": [
            [
             0,
             "#0d0887"
            ],
            [
             0.1111111111111111,
             "#46039f"
            ],
            [
             0.2222222222222222,
             "#7201a8"
            ],
            [
             0.3333333333333333,
             "#9c179e"
            ],
            [
             0.4444444444444444,
             "#bd3786"
            ],
            [
             0.5555555555555556,
             "#d8576b"
            ],
            [
             0.6666666666666666,
             "#ed7953"
            ],
            [
             0.7777777777777778,
             "#fb9f3a"
            ],
            [
             0.8888888888888888,
             "#fdca26"
            ],
            [
             1,
             "#f0f921"
            ]
           ]
          },
          "colorway": [
           "#636efa",
           "#EF553B",
           "#00cc96",
           "#ab63fa",
           "#FFA15A",
           "#19d3f3",
           "#FF6692",
           "#B6E880",
           "#FF97FF",
           "#FECB52"
          ],
          "font": {
           "color": "#2a3f5f"
          },
          "geo": {
           "bgcolor": "white",
           "lakecolor": "white",
           "landcolor": "#E5ECF6",
           "showlakes": true,
           "showland": true,
           "subunitcolor": "white"
          },
          "hoverlabel": {
           "align": "left"
          },
          "hovermode": "closest",
          "mapbox": {
           "style": "light"
          },
          "paper_bgcolor": "white",
          "plot_bgcolor": "#E5ECF6",
          "polar": {
           "angularaxis": {
            "gridcolor": "white",
            "linecolor": "white",
            "ticks": ""
           },
           "bgcolor": "#E5ECF6",
           "radialaxis": {
            "gridcolor": "white",
            "linecolor": "white",
            "ticks": ""
           }
          },
          "scene": {
           "xaxis": {
            "backgroundcolor": "#E5ECF6",
            "gridcolor": "white",
            "gridwidth": 2,
            "linecolor": "white",
            "showbackground": true,
            "ticks": "",
            "zerolinecolor": "white"
           },
           "yaxis": {
            "backgroundcolor": "#E5ECF6",
            "gridcolor": "white",
            "gridwidth": 2,
            "linecolor": "white",
            "showbackground": true,
            "ticks": "",
            "zerolinecolor": "white"
           },
           "zaxis": {
            "backgroundcolor": "#E5ECF6",
            "gridcolor": "white",
            "gridwidth": 2,
            "linecolor": "white",
            "showbackground": true,
            "ticks": "",
            "zerolinecolor": "white"
           }
          },
          "shapedefaults": {
           "line": {
            "color": "#2a3f5f"
           }
          },
          "ternary": {
           "aaxis": {
            "gridcolor": "white",
            "linecolor": "white",
            "ticks": ""
           },
           "baxis": {
            "gridcolor": "white",
            "linecolor": "white",
            "ticks": ""
           },
           "bgcolor": "#E5ECF6",
           "caxis": {
            "gridcolor": "white",
            "linecolor": "white",
            "ticks": ""
           }
          },
          "title": {
           "x": 0.05
          },
          "xaxis": {
           "automargin": true,
           "gridcolor": "white",
           "linecolor": "white",
           "ticks": "",
           "title": {
            "standoff": 15
           },
           "zerolinecolor": "white",
           "zerolinewidth": 2
          },
          "yaxis": {
           "automargin": true,
           "gridcolor": "white",
           "linecolor": "white",
           "ticks": "",
           "title": {
            "standoff": 15
           },
           "zerolinecolor": "white",
           "zerolinewidth": 2
          }
         }
        },
        "xaxis": {
         "anchor": "y",
         "domain": [
          0,
          1
         ],
         "title": {
          "text": "x"
         }
        },
        "yaxis": {
         "anchor": "x",
         "domain": [
          0,
          1
         ],
         "title": {
          "text": "y"
         }
        }
       }
      },
      "text/html": [
       "<div>                            <div id=\"c74a3d77-8c82-457f-8216-996cb6634d2b\" class=\"plotly-graph-div\" style=\"height:525px; width:100%;\"></div>            <script type=\"text/javascript\">                require([\"plotly\"], function(Plotly) {                    window.PLOTLYENV=window.PLOTLYENV || {};                                    if (document.getElementById(\"c74a3d77-8c82-457f-8216-996cb6634d2b\")) {                    Plotly.newPlot(                        \"c74a3d77-8c82-457f-8216-996cb6634d2b\",                        [{\"hovertemplate\":\"x=%{x}<br>y=%{y}<extra></extra>\",\"legendgroup\":\"\",\"marker\":{\"color\":\"#636efa\",\"symbol\":\"circle\"},\"mode\":\"markers\",\"name\":\"\",\"orientation\":\"v\",\"showlegend\":false,\"x\":[3.77,6.81,3.79,3.28,10.22,4.22,6.5,2.93,4.7,0.28,1.93,4.13,7.2,3.6,2.53,3.54,4.16,6.04,4.18,3.84,5.38,5.65,5.32,3.12,4.34,2.66,5.33,2.67,3.96,1.91,1.2,3.08,2.69,2.13,2.12,3.15,1.25,2.23,2.47,3.0,4.36,1.98,3.81,2.49,1.58,3.14,0.13,2.69,0.98,1.45,0.7,2.42,0.6,1.39,1.27,0.87,1.6,1.03,1.69,2.06,1.29,0.87,4.35,1.81,1.97,0.91,0.99,0.95,0.94,2.0,1.01,1.09,1.03,0.83,1.27,1.57,0.95,2.2,1.89,1.7,0.15,0.8,0.29,1.54,0.89,1.52,1.32,1.15,0.89,1.1,1.44,0.46,1.61,0.72,0.62,1.57,1.76,0.37,0.64,2.46,0.92,1.07,2.62,1.05,0.54,0.81,0.41,0.73,0.59,1.38,3.67,0.55,0.66,0.46,1.75,1.42,0.73,0.59,0.74,0.73,0.82,2.32,0.76,0.46,3.18,2.35,0.12,0.93,1.93,0.99,0.14,1.03,0.46,0.55,0.45,0.8,1.39,1.19,0.34,0.73,0.62,0.89,0.98,0.1,1.1,0.68,1.96,0.71,1.13,1.04,0.33,0.87,0.35,2.65,0.12,0.24,0.96,0.92,0.33,0.7,0.16,1.08,0.92,0.78,1.42,1.48,0.4,0.47,1.06,1.21,0.62,1.63,0.64,0.91,0.54,0.46,1.05,0.18,0.45,0.34,1.1,0.3,0.73,0.47,0.08,1.56,1.98,1.45,2.13,0.19,1.35,0.45,0.92,0.63,0.73,0.74,0.46,0.83,0.29,0.13,0.53,1.29,0.9,0.75,0.41,1.53,1.05,0.55,0.2,0.29,0.41,1.01,1.33,0.3,0.4,0.41,0.55,0.83,0.93,0.79,0.07,1.35,0.36,0.14,0.84,1.03,0.56,0.4,1.09,0.91,0.8,0.0,1.71,0.0,0.79,0.82,0.17,0.6,0.15,0.76,0.56,0.49,0.45,0.3,0.65,0.2,0.04,0.44,0.46,0.81,0.44,0.24,0.52,0.25,0.15,1.52,0.92,0.36,0.25,0.28,0.65,0.39,0.65,0.25,0.07,1.45,1.09,1.39,0.22,0.71,1.18,0.13,0.59,0.49,1.37,0.28,0.43,0.24,0.07,0.58,0.4,0.11,0.0,1.28,0.36,0.47,0.41,0.13,0.31,0.0,0.43,0.75,0.12,0.7,0.46,0.12,0.08,0.27,0.56,0.36,0.36,0.42,0.19,0.04,0.29,0.33,0.44,0.15,0.21,0.07,0.41,0.46,0.35,0.48,0.15,0.37,0.84,0.0,0.3,0.63,0.7,0.29,0.17,0.29,0.45,0.31,0.09,0.13,0.19,0.21,0.37,0.45,0.37,0.41,0.1,0.19,0.47,0.09,0.16,0.28,0.21,0.29,0.13,0.18,0.13,0.33,0.08,0.43,0.53,0.0,0.24,0.3,0.89,0.21,0.12,0.2,0.44,0.13,0.14,0.0,0.28,0.0,0.0,0.81,0.13,0.8,0.0,0.17,0.27,0.25,0.11,0.12,0.38,0.14,0.74,0.25,0.3,0.17,0.73,0.32,0.73,0.73,0.53,0.22,0.71,0.17,0.44,0.0,0.17,0.7,0.0,0.02,0.33,0.18,0.34,0.0,0.33,0.19,0.12,0.3,0.0,0.27,0.0,0.11,0.0,0.62,0.61,0.14,0.22,0.0,0.33,0.09,0.2,0.14,0.31,0.59,0.58,0.01,0.02,0.57,0.24,0.13,0.22,0.12,0.56,0.56,0.55,0.08,0.38,0.16,0.1,0.48,0.12,0.16,0.0,0.19,0.0,0.52,0.51,0.17,0.51,0.3,0.31,0.17,0.49,0.16,0.05,0.29,0.17,0.07,0.18,0.46,0.08,0.0,0.12,0.21,0.24,0.45,0.34,0.32,0.0,0.13,0.0,0.43,0.06,0.0,0.0,0.26,0.07,0.07,0.41,0.0,0.03,0.09,0.11,0.25,0.08,0.41,0.26,0.04,0.07,0.0,0.39,0.04,0.39,0.0,0.0,0.0,0.34,0.09,0.38,0.38,0.0,0.07,0.0,0.0,0.02,0.0,0.36,0.0,0.03,0.35,0.08,0.23,0.07,0.35,0.09,0.2,0.08,0.16,0.09,0.16,0.32,0.31,0.26,0.3,0.3,0.01,0.08,0.3,0.3,0.08,0.12,0.05,0.02,0.0,0.29,0.29,0.17,0.28,0.28,0.28,0.0,0.27,0.28,0.0,0.27,0.0,0.0,0.27,0.26,0.0,0.27,0.26,0.25,0.26,0.11,0.11,0.26,0.1,0.02,0.0,0.24,0.0,0.1,0.12,0.0,0.23,0.06,0.11,0.0,0.23,0.06,0.09,0.23,0.13,0.07,0.23,0.23,0.0,0.22,0.06,0.0,0.06,0.22,0.01,0.0,0.0,0.07,0.21,0.2,0.05,0.0,0.0,0.19,0.0,0.19,0.19,0.19,0.0,0.18,0.0,0.18,0.0,0.0,0.12,0.17,0.17,0.17,0.15,0.04,0.16,0.0,0.0,0.16,0.15,0.0,0.14,0.14,0.05,0.03,0.03,0.13,0.13,0.0,0.12,0.12,0.11,0.08,0.11,0.11,0.02,0.11,0.11,0.11,0.11,0.0,0.11,0.1,0.1,0.1,0.1,0.1,0.1,0.09,0.0,0.09,0.0,0.08,0.07,0.0,0.09,0.09,0.09,0.08,0.08,0.08,0.08,0.08,0.04,0.07,0.0,0.07,0.07,0.07,0.07,0.07,0.0,0.07,0.03,0.06,0.06,0.06,0.0,0.06,0.06,0.05,0.05,0.05,0.05,0.0,0.05,0.05,0.04,0.04,0.04,0.04,0.04,0.04,0.04,0.02,0.03,0.01,0.03,0.03,0.03,0.0,0.0,0.02,0.0,0.0,0.01,0.01,0.01,0.01,0.01],\"xaxis\":\"x\",\"y\":[8.46,0.77,3.31,2.96,1.0,0.58,2.9,2.85,2.26,0.47,2.75,1.92,0.71,2.15,1.79,0.55,2.05,1.37,0.42,0.46,0.5,0.82,1.18,0.59,0.79,1.02,0.88,0.89,0.77,0.23,0.76,0.65,0.29,0.78,0.29,0.35,0.98,0.15,0.63,0.23,0.41,0.7,0.18,0.68,0.73,0.43,0.15,0.55,0.64,0.16,0.19,0.43,0.7,0.22,0.49,0.19,0.62,0.47,0.14,0.21,0.99,0.17,0.15,0.11,0.04,0.2,0.23,0.2,0.09,0.2,0.16,0.06,0.52,0.2,0.31,0.15,0.49,0.11,0.28,0.11,0.22,0.57,0.46,0.37,0.1,0.1,0.37,0.13,0.13,0.3,0.43,0.33,0.08,0.3,0.3,0.07,0.09,0.4,0.04,0.04,0.37,0.11,0.11,0.35,0.13,0.27,0.43,0.27,0.32,0.1,0.0,0.1,0.06,0.1,0.08,0.06,0.35,0.4,0.27,0.06,0.28,0.02,0.24,0.32,0.0,0.02,0.1,0.2,0.14,0.09,0.04,0.17,0.22,0.34,0.07,0.07,0.12,0.15,0.04,0.26,0.09,0.07,0.05,0.09,0.15,0.34,0.07,0.07,0.23,0.05,0.1,0.05,0.18,0.0,0.03,0.25,0.19,0.14,0.28,0.07,0.06,0.01,0.07,0.05,0.03,0.05,0.08,0.17,0.07,0.13,0.18,0.02,0.12,0.04,0.09,0.06,0.11,0.16,0.13,0.23,0.05,0.13,0.12,0.06,0.03,0.02,0.0,0.03,0.0,0.1,0.08,0.11,0.04,0.13,0.06,0.08,0.13,0.0,0.07,0.05,0.13,0.03,0.04,0.04,0.05,0.02,0.08,0.05,0.07,0.12,0.06,0.02,0.04,0.09,0.12,0.06,0.11,0.03,0.0,0.09,0.09,0.03,0.14,0.13,0.08,0.04,0.04,0.06,0.02,0.01,0.02,0.01,0.0,0.09,0.08,0.03,0.06,0.05,0.05,0.03,0.04,0.1,0.04,0.13,0.03,0.04,0.04,0.12,0.04,0.02,0.05,0.11,0.1,0.04,0.12,0.0,0.02,0.04,0.06,0.14,0.05,0.04,0.02,0.04,0.12,0.0,0.02,0.03,0.1,0.02,0.03,0.1,0.02,0.07,0.0,0.09,0.08,0.04,0.04,0.06,0.03,0.1,0.12,0.0,0.07,0.06,0.02,0.1,0.03,0.1,0.03,0.02,0.04,0.02,0.03,0.04,0.04,0.07,0.03,0.04,0.07,0.06,0.09,0.01,0.02,0.08,0.06,0.11,0.02,0.02,0.03,0.03,0.07,0.02,0.04,0.06,0.01,0.02,0.02,0.02,0.01,0.06,0.08,0.03,0.02,0.04,0.09,0.08,0.03,0.07,0.04,0.03,0.12,0.05,0.3,0.01,0.02,0.03,0.08,0.02,0.02,0.01,0.07,0.09,0.07,0.05,0.08,0.01,0.03,0.06,0.02,0.02,0.0,0.06,0.07,0.05,0.04,0.05,0.06,0.01,0.02,0.01,0.02,0.0,0.06,0.0,0.01,0.07,0.05,0.06,0.06,0.07,0.04,0.01,0.0,0.04,0.02,0.01,0.0,0.04,0.0,0.0,0.01,0.04,0.0,0.06,0.02,0.01,0.01,0.0,0.01,0.04,0.02,0.04,0.02,0.02,0.03,0.04,0.02,0.01,0.01,0.03,0.01,0.06,0.14,0.0,0.0,0.05,0.01,0.01,0.02,0.02,0.04,0.01,0.02,0.0,0.0,0.06,0.05,0.0,0.03,0.01,0.03,0.04,0.0,0.0,0.0,0.04,0.02,0.01,0.04,0.0,0.04,0.03,0.0,0.01,0.04,0.0,0.0,0.03,0.0,0.02,0.01,0.02,0.0,0.03,0.03,0.02,0.03,0.02,0.03,0.01,0.05,0.01,0.01,0.02,0.01,0.01,0.01,0.01,0.01,0.03,0.01,0.01,0.04,0.01,0.01,0.01,0.01,0.06,0.01,0.0,0.04,0.03,0.03,0.04,0.03,0.0,0.01,0.03,0.01,0.0,0.01,0.03,0.0,0.01,0.03,0.03,0.05,0.01,0.0,0.0,0.03,0.01,0.01,0.01,0.03,0.01,0.0,0.0,0.03,0.0,0.02,0.01,0.03,0.0,0.02,0.01,0.03,0.01,0.01,0.01,0.0,0.0,0.05,0.01,0.0,0.03,0.02,0.01,0.0,0.01,0.01,0.0,0.0,0.0,0.0,0.0,0.01,0.01,0.0,0.0,0.02,0.01,0.0,0.02,0.0,0.01,0.0,0.0,0.01,0.02,0.0,0.0,0.0,0.01,0.01,0.01,0.0,0.01,0.02,0.0,0.0,0.01,0.01,0.01,0.0,0.01,0.02,0.01,0.02,0.0,0.01,0.02,0.0,0.01,0.01,0.0,0.0,0.0,0.0,0.01,0.0,0.01,0.0,0.02,0.02,0.02,0.01,0.0,0.0,0.01,0.02,0.01,0.0,0.01,0.0,0.0,0.0,0.0,0.0,0.0,0.0,0.01,0.0,0.0,0.0,0.0,0.0,0.0,0.01,0.0,0.0,0.0,0.0,0.0,0.0,0.0,0.0,0.01,0.01,0.01,0.0,0.0,0.0,0.0,0.0,0.0,0.0,0.0,0.0,0.0,0.0,0.0,0.0,0.0,0.0,0.0,0.0,0.0,0.0,0.0,0.0,0.0,0.0,0.01,0.0,0.01,0.0,0.0,0.01,0.0,0.0,0.0,0.0,0.0,0.0,0.0,0.0,0.0,0.0,0.0,0.0,0.0,0.0,0.0,0.0,0.01,0.0,0.0,0.0,0.0,0.0,0.01,0.0,0.0,0.0,0.0,0.0,0.0,0.0,0.0,0.0,0.0,0.0,0.0,0.0,0.0,0.0,0.0,0.0,0.0,0.0,0.0,0.0,0.0,0.0,0.0,0.0,0.0,0.0,0.0,0.0,0.0,0.0,0.0],\"yaxis\":\"y\",\"type\":\"scatter\"}],                        {\"template\":{\"data\":{\"bar\":[{\"error_x\":{\"color\":\"#2a3f5f\"},\"error_y\":{\"color\":\"#2a3f5f\"},\"marker\":{\"line\":{\"color\":\"#E5ECF6\",\"width\":0.5},\"pattern\":{\"fillmode\":\"overlay\",\"size\":10,\"solidity\":0.2}},\"type\":\"bar\"}],\"barpolar\":[{\"marker\":{\"line\":{\"color\":\"#E5ECF6\",\"width\":0.5},\"pattern\":{\"fillmode\":\"overlay\",\"size\":10,\"solidity\":0.2}},\"type\":\"barpolar\"}],\"carpet\":[{\"aaxis\":{\"endlinecolor\":\"#2a3f5f\",\"gridcolor\":\"white\",\"linecolor\":\"white\",\"minorgridcolor\":\"white\",\"startlinecolor\":\"#2a3f5f\"},\"baxis\":{\"endlinecolor\":\"#2a3f5f\",\"gridcolor\":\"white\",\"linecolor\":\"white\",\"minorgridcolor\":\"white\",\"startlinecolor\":\"#2a3f5f\"},\"type\":\"carpet\"}],\"choropleth\":[{\"colorbar\":{\"outlinewidth\":0,\"ticks\":\"\"},\"type\":\"choropleth\"}],\"contour\":[{\"colorbar\":{\"outlinewidth\":0,\"ticks\":\"\"},\"colorscale\":[[0.0,\"#0d0887\"],[0.1111111111111111,\"#46039f\"],[0.2222222222222222,\"#7201a8\"],[0.3333333333333333,\"#9c179e\"],[0.4444444444444444,\"#bd3786\"],[0.5555555555555556,\"#d8576b\"],[0.6666666666666666,\"#ed7953\"],[0.7777777777777778,\"#fb9f3a\"],[0.8888888888888888,\"#fdca26\"],[1.0,\"#f0f921\"]],\"type\":\"contour\"}],\"contourcarpet\":[{\"colorbar\":{\"outlinewidth\":0,\"ticks\":\"\"},\"type\":\"contourcarpet\"}],\"heatmap\":[{\"colorbar\":{\"outlinewidth\":0,\"ticks\":\"\"},\"colorscale\":[[0.0,\"#0d0887\"],[0.1111111111111111,\"#46039f\"],[0.2222222222222222,\"#7201a8\"],[0.3333333333333333,\"#9c179e\"],[0.4444444444444444,\"#bd3786\"],[0.5555555555555556,\"#d8576b\"],[0.6666666666666666,\"#ed7953\"],[0.7777777777777778,\"#fb9f3a\"],[0.8888888888888888,\"#fdca26\"],[1.0,\"#f0f921\"]],\"type\":\"heatmap\"}],\"heatmapgl\":[{\"colorbar\":{\"outlinewidth\":0,\"ticks\":\"\"},\"colorscale\":[[0.0,\"#0d0887\"],[0.1111111111111111,\"#46039f\"],[0.2222222222222222,\"#7201a8\"],[0.3333333333333333,\"#9c179e\"],[0.4444444444444444,\"#bd3786\"],[0.5555555555555556,\"#d8576b\"],[0.6666666666666666,\"#ed7953\"],[0.7777777777777778,\"#fb9f3a\"],[0.8888888888888888,\"#fdca26\"],[1.0,\"#f0f921\"]],\"type\":\"heatmapgl\"}],\"histogram\":[{\"marker\":{\"pattern\":{\"fillmode\":\"overlay\",\"size\":10,\"solidity\":0.2}},\"type\":\"histogram\"}],\"histogram2d\":[{\"colorbar\":{\"outlinewidth\":0,\"ticks\":\"\"},\"colorscale\":[[0.0,\"#0d0887\"],[0.1111111111111111,\"#46039f\"],[0.2222222222222222,\"#7201a8\"],[0.3333333333333333,\"#9c179e\"],[0.4444444444444444,\"#bd3786\"],[0.5555555555555556,\"#d8576b\"],[0.6666666666666666,\"#ed7953\"],[0.7777777777777778,\"#fb9f3a\"],[0.8888888888888888,\"#fdca26\"],[1.0,\"#f0f921\"]],\"type\":\"histogram2d\"}],\"histogram2dcontour\":[{\"colorbar\":{\"outlinewidth\":0,\"ticks\":\"\"},\"colorscale\":[[0.0,\"#0d0887\"],[0.1111111111111111,\"#46039f\"],[0.2222222222222222,\"#7201a8\"],[0.3333333333333333,\"#9c179e\"],[0.4444444444444444,\"#bd3786\"],[0.5555555555555556,\"#d8576b\"],[0.6666666666666666,\"#ed7953\"],[0.7777777777777778,\"#fb9f3a\"],[0.8888888888888888,\"#fdca26\"],[1.0,\"#f0f921\"]],\"type\":\"histogram2dcontour\"}],\"mesh3d\":[{\"colorbar\":{\"outlinewidth\":0,\"ticks\":\"\"},\"type\":\"mesh3d\"}],\"parcoords\":[{\"line\":{\"colorbar\":{\"outlinewidth\":0,\"ticks\":\"\"}},\"type\":\"parcoords\"}],\"pie\":[{\"automargin\":true,\"type\":\"pie\"}],\"scatter\":[{\"marker\":{\"colorbar\":{\"outlinewidth\":0,\"ticks\":\"\"}},\"type\":\"scatter\"}],\"scatter3d\":[{\"line\":{\"colorbar\":{\"outlinewidth\":0,\"ticks\":\"\"}},\"marker\":{\"colorbar\":{\"outlinewidth\":0,\"ticks\":\"\"}},\"type\":\"scatter3d\"}],\"scattercarpet\":[{\"marker\":{\"colorbar\":{\"outlinewidth\":0,\"ticks\":\"\"}},\"type\":\"scattercarpet\"}],\"scattergeo\":[{\"marker\":{\"colorbar\":{\"outlinewidth\":0,\"ticks\":\"\"}},\"type\":\"scattergeo\"}],\"scattergl\":[{\"marker\":{\"colorbar\":{\"outlinewidth\":0,\"ticks\":\"\"}},\"type\":\"scattergl\"}],\"scattermapbox\":[{\"marker\":{\"colorbar\":{\"outlinewidth\":0,\"ticks\":\"\"}},\"type\":\"scattermapbox\"}],\"scatterpolar\":[{\"marker\":{\"colorbar\":{\"outlinewidth\":0,\"ticks\":\"\"}},\"type\":\"scatterpolar\"}],\"scatterpolargl\":[{\"marker\":{\"colorbar\":{\"outlinewidth\":0,\"ticks\":\"\"}},\"type\":\"scatterpolargl\"}],\"scatterternary\":[{\"marker\":{\"colorbar\":{\"outlinewidth\":0,\"ticks\":\"\"}},\"type\":\"scatterternary\"}],\"surface\":[{\"colorbar\":{\"outlinewidth\":0,\"ticks\":\"\"},\"colorscale\":[[0.0,\"#0d0887\"],[0.1111111111111111,\"#46039f\"],[0.2222222222222222,\"#7201a8\"],[0.3333333333333333,\"#9c179e\"],[0.4444444444444444,\"#bd3786\"],[0.5555555555555556,\"#d8576b\"],[0.6666666666666666,\"#ed7953\"],[0.7777777777777778,\"#fb9f3a\"],[0.8888888888888888,\"#fdca26\"],[1.0,\"#f0f921\"]],\"type\":\"surface\"}],\"table\":[{\"cells\":{\"fill\":{\"color\":\"#EBF0F8\"},\"line\":{\"color\":\"white\"}},\"header\":{\"fill\":{\"color\":\"#C8D4E3\"},\"line\":{\"color\":\"white\"}},\"type\":\"table\"}]},\"layout\":{\"annotationdefaults\":{\"arrowcolor\":\"#2a3f5f\",\"arrowhead\":0,\"arrowwidth\":1},\"autotypenumbers\":\"strict\",\"coloraxis\":{\"colorbar\":{\"outlinewidth\":0,\"ticks\":\"\"}},\"colorscale\":{\"diverging\":[[0,\"#8e0152\"],[0.1,\"#c51b7d\"],[0.2,\"#de77ae\"],[0.3,\"#f1b6da\"],[0.4,\"#fde0ef\"],[0.5,\"#f7f7f7\"],[0.6,\"#e6f5d0\"],[0.7,\"#b8e186\"],[0.8,\"#7fbc41\"],[0.9,\"#4d9221\"],[1,\"#276419\"]],\"sequential\":[[0.0,\"#0d0887\"],[0.1111111111111111,\"#46039f\"],[0.2222222222222222,\"#7201a8\"],[0.3333333333333333,\"#9c179e\"],[0.4444444444444444,\"#bd3786\"],[0.5555555555555556,\"#d8576b\"],[0.6666666666666666,\"#ed7953\"],[0.7777777777777778,\"#fb9f3a\"],[0.8888888888888888,\"#fdca26\"],[1.0,\"#f0f921\"]],\"sequentialminus\":[[0.0,\"#0d0887\"],[0.1111111111111111,\"#46039f\"],[0.2222222222222222,\"#7201a8\"],[0.3333333333333333,\"#9c179e\"],[0.4444444444444444,\"#bd3786\"],[0.5555555555555556,\"#d8576b\"],[0.6666666666666666,\"#ed7953\"],[0.7777777777777778,\"#fb9f3a\"],[0.8888888888888888,\"#fdca26\"],[1.0,\"#f0f921\"]]},\"colorway\":[\"#636efa\",\"#EF553B\",\"#00cc96\",\"#ab63fa\",\"#FFA15A\",\"#19d3f3\",\"#FF6692\",\"#B6E880\",\"#FF97FF\",\"#FECB52\"],\"font\":{\"color\":\"#2a3f5f\"},\"geo\":{\"bgcolor\":\"white\",\"lakecolor\":\"white\",\"landcolor\":\"#E5ECF6\",\"showlakes\":true,\"showland\":true,\"subunitcolor\":\"white\"},\"hoverlabel\":{\"align\":\"left\"},\"hovermode\":\"closest\",\"mapbox\":{\"style\":\"light\"},\"paper_bgcolor\":\"white\",\"plot_bgcolor\":\"#E5ECF6\",\"polar\":{\"angularaxis\":{\"gridcolor\":\"white\",\"linecolor\":\"white\",\"ticks\":\"\"},\"bgcolor\":\"#E5ECF6\",\"radialaxis\":{\"gridcolor\":\"white\",\"linecolor\":\"white\",\"ticks\":\"\"}},\"scene\":{\"xaxis\":{\"backgroundcolor\":\"#E5ECF6\",\"gridcolor\":\"white\",\"gridwidth\":2,\"linecolor\":\"white\",\"showbackground\":true,\"ticks\":\"\",\"zerolinecolor\":\"white\"},\"yaxis\":{\"backgroundcolor\":\"#E5ECF6\",\"gridcolor\":\"white\",\"gridwidth\":2,\"linecolor\":\"white\",\"showbackground\":true,\"ticks\":\"\",\"zerolinecolor\":\"white\"},\"zaxis\":{\"backgroundcolor\":\"#E5ECF6\",\"gridcolor\":\"white\",\"gridwidth\":2,\"linecolor\":\"white\",\"showbackground\":true,\"ticks\":\"\",\"zerolinecolor\":\"white\"}},\"shapedefaults\":{\"line\":{\"color\":\"#2a3f5f\"}},\"ternary\":{\"aaxis\":{\"gridcolor\":\"white\",\"linecolor\":\"white\",\"ticks\":\"\"},\"baxis\":{\"gridcolor\":\"white\",\"linecolor\":\"white\",\"ticks\":\"\"},\"bgcolor\":\"#E5ECF6\",\"caxis\":{\"gridcolor\":\"white\",\"linecolor\":\"white\",\"ticks\":\"\"}},\"title\":{\"x\":0.05},\"xaxis\":{\"automargin\":true,\"gridcolor\":\"white\",\"linecolor\":\"white\",\"ticks\":\"\",\"title\":{\"standoff\":15},\"zerolinecolor\":\"white\",\"zerolinewidth\":2},\"yaxis\":{\"automargin\":true,\"gridcolor\":\"white\",\"linecolor\":\"white\",\"ticks\":\"\",\"title\":{\"standoff\":15},\"zerolinecolor\":\"white\",\"zerolinewidth\":2}}},\"xaxis\":{\"anchor\":\"y\",\"domain\":[0.0,1.0],\"title\":{\"text\":\"x\"}},\"yaxis\":{\"anchor\":\"x\",\"domain\":[0.0,1.0],\"title\":{\"text\":\"y\"}},\"legend\":{\"tracegroupgap\":0},\"margin\":{\"t\":60}},                        {\"responsive\": true}                    ).then(function(){\n",
       "                            \n",
       "var gd = document.getElementById('c74a3d77-8c82-457f-8216-996cb6634d2b');\n",
       "var x = new MutationObserver(function (mutations, observer) {{\n",
       "        var display = window.getComputedStyle(gd).display;\n",
       "        if (!display || display === 'none') {{\n",
       "            console.log([gd, 'removed!']);\n",
       "            Plotly.purge(gd);\n",
       "            observer.disconnect();\n",
       "        }}\n",
       "}});\n",
       "\n",
       "// Listen for the removal of the full notebook cells\n",
       "var notebookContainer = gd.closest('#notebook-container');\n",
       "if (notebookContainer) {{\n",
       "    x.observe(notebookContainer, {childList: true});\n",
       "}}\n",
       "\n",
       "// Listen for the clearing of the current output cell\n",
       "var outputEl = gd.closest('.output');\n",
       "if (outputEl) {{\n",
       "    x.observe(outputEl, {childList: true});\n",
       "}}\n",
       "\n",
       "                        })                };                });            </script>        </div>"
      ]
     },
     "metadata": {},
     "output_type": "display_data"
    }
   ],
   "source": [
    "\n",
    "fig = px.scatter(x=df['JP_Sales'], y = df[\"Other_Sales\"])\n",
    "fig.show()"
   ]
  },
  {
   "cell_type": "code",
   "execution_count": null,
   "id": "5409ce46",
   "metadata": {},
   "outputs": [],
   "source": []
  },
  {
   "cell_type": "code",
   "execution_count": null,
   "id": "f797a009",
   "metadata": {},
   "outputs": [],
   "source": []
  }
 ],
 "metadata": {
  "kernelspec": {
   "display_name": "Python 3 (ipykernel)",
   "language": "python",
   "name": "python3"
  },
  "language_info": {
   "codemirror_mode": {
    "name": "ipython",
    "version": 3
   },
   "file_extension": ".py",
   "mimetype": "text/x-python",
   "name": "python",
   "nbconvert_exporter": "python",
   "pygments_lexer": "ipython3",
   "version": "3.9.12"
  }
 },
 "nbformat": 4,
 "nbformat_minor": 5
}
